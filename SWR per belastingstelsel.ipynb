{
 "cells": [
  {
   "cell_type": "code",
   "execution_count": 1,
   "metadata": {},
   "outputs": [],
   "source": [
    "import pandas as pd\n",
    "import numpy as np\n",
    "import matplotlib.pyplot as plt\n",
    "from matplotlib.ticker import FuncFormatter\n",
    "\n",
    "datasets = {}"
   ]
  },
  {
   "cell_type": "code",
   "execution_count": 2,
   "metadata": {},
   "outputs": [
    {
     "name": "stdout",
     "output_type": "stream",
     "text": [
      "Data size for Yahoo's S&P 500 data is 827\n"
     ]
    },
    {
     "data": {
      "text/html": [
       "<div>\n",
       "<style scoped>\n",
       "    .dataframe tbody tr th:only-of-type {\n",
       "        vertical-align: middle;\n",
       "    }\n",
       "\n",
       "    .dataframe tbody tr th {\n",
       "        vertical-align: top;\n",
       "    }\n",
       "\n",
       "    .dataframe thead th {\n",
       "        text-align: right;\n",
       "    }\n",
       "</style>\n",
       "<table border=\"1\" class=\"dataframe\">\n",
       "  <thead>\n",
       "    <tr style=\"text-align: right;\">\n",
       "      <th></th>\n",
       "      <th>Date</th>\n",
       "      <th>Yield</th>\n",
       "      <th>Inflation</th>\n",
       "    </tr>\n",
       "  </thead>\n",
       "  <tbody>\n",
       "    <tr>\n",
       "      <th>823</th>\n",
       "      <td>2018-08-01</td>\n",
       "      <td>0.030263</td>\n",
       "      <td>0.001667</td>\n",
       "    </tr>\n",
       "    <tr>\n",
       "      <th>824</th>\n",
       "      <td>2018-09-01</td>\n",
       "      <td>0.004294</td>\n",
       "      <td>0.001667</td>\n",
       "    </tr>\n",
       "    <tr>\n",
       "      <th>825</th>\n",
       "      <td>2018-10-01</td>\n",
       "      <td>-0.071521</td>\n",
       "      <td>0.001667</td>\n",
       "    </tr>\n",
       "    <tr>\n",
       "      <th>826</th>\n",
       "      <td>2018-10-25</td>\n",
       "      <td>0.000000</td>\n",
       "      <td>0.001667</td>\n",
       "    </tr>\n",
       "  </tbody>\n",
       "</table>\n",
       "</div>"
      ],
      "text/plain": [
       "           Date     Yield  Inflation\n",
       "823  2018-08-01  0.030263   0.001667\n",
       "824  2018-09-01  0.004294   0.001667\n",
       "825  2018-10-01 -0.071521   0.001667\n",
       "826  2018-10-25  0.000000   0.001667"
      ]
     },
     "execution_count": 2,
     "metadata": {},
     "output_type": "execute_result"
    }
   ],
   "source": [
    "# Parse data from Yahoo (1950 - now)\n",
    "# https://finance.yahoo.com/quote/%5EGSPC/history?p=%5EGSPC\n",
    "data = pd.read_csv('SP500-Yahoo.csv')\n",
    "#data = data.resample('BM').apply(lambda x: x[-1])\n",
    "data['Yield'] = data['Adj Close'].pct_change().fillna(0.0)\n",
    "data = data[['Date', 'Yield']]\n",
    "data['Inflation'] = 0.02 / 12 # Fixed inflation at 2%, we can do better if we use Shiller's data here\n",
    "datasets['Yahoo'] = data\n",
    "print(\"Data size for Yahoo's S&P 500 data is %d\" % len(data.index))\n",
    "data.tail(4)"
   ]
  },
  {
   "cell_type": "code",
   "execution_count": 3,
   "metadata": {},
   "outputs": [
    {
     "name": "stdout",
     "output_type": "stream",
     "text": [
      "Data size for Shiller's S&P 500 data is 1774\n"
     ]
    },
    {
     "data": {
      "text/html": [
       "<div>\n",
       "<style scoped>\n",
       "    .dataframe tbody tr th:only-of-type {\n",
       "        vertical-align: middle;\n",
       "    }\n",
       "\n",
       "    .dataframe tbody tr th {\n",
       "        vertical-align: top;\n",
       "    }\n",
       "\n",
       "    .dataframe thead th {\n",
       "        text-align: right;\n",
       "    }\n",
       "</style>\n",
       "<table border=\"1\" class=\"dataframe\">\n",
       "  <thead>\n",
       "    <tr style=\"text-align: right;\">\n",
       "      <th></th>\n",
       "      <th>Date</th>\n",
       "      <th>Yield</th>\n",
       "      <th>Inflation</th>\n",
       "    </tr>\n",
       "  </thead>\n",
       "  <tbody>\n",
       "    <tr>\n",
       "      <th>1759</th>\n",
       "      <td>2017.08</td>\n",
       "      <td>0.002487</td>\n",
       "      <td>0.002994</td>\n",
       "    </tr>\n",
       "    <tr>\n",
       "      <th>1760</th>\n",
       "      <td>2017.09</td>\n",
       "      <td>0.016519</td>\n",
       "      <td>0.005295</td>\n",
       "    </tr>\n",
       "    <tr>\n",
       "      <th>1761</th>\n",
       "      <td>2017.10</td>\n",
       "      <td>0.027316</td>\n",
       "      <td>-0.000632</td>\n",
       "    </tr>\n",
       "    <tr>\n",
       "      <th>1762</th>\n",
       "      <td>2017.11</td>\n",
       "      <td>0.015882</td>\n",
       "      <td>0.000024</td>\n",
       "    </tr>\n",
       "    <tr>\n",
       "      <th>1763</th>\n",
       "      <td>2017.12</td>\n",
       "      <td>0.028801</td>\n",
       "      <td>-0.000588</td>\n",
       "    </tr>\n",
       "    <tr>\n",
       "      <th>1764</th>\n",
       "      <td>2018.01</td>\n",
       "      <td>0.048561</td>\n",
       "      <td>0.005448</td>\n",
       "    </tr>\n",
       "    <tr>\n",
       "      <th>1765</th>\n",
       "      <td>2018.02</td>\n",
       "      <td>-0.028810</td>\n",
       "      <td>0.004535</td>\n",
       "    </tr>\n",
       "    <tr>\n",
       "      <th>1766</th>\n",
       "      <td>2018.03</td>\n",
       "      <td>0.000658</td>\n",
       "      <td>0.002261</td>\n",
       "    </tr>\n",
       "    <tr>\n",
       "      <th>1767</th>\n",
       "      <td>2018.04</td>\n",
       "      <td>-0.016601</td>\n",
       "      <td>0.003975</td>\n",
       "    </tr>\n",
       "    <tr>\n",
       "      <th>1768</th>\n",
       "      <td>2018.05</td>\n",
       "      <td>0.019598</td>\n",
       "      <td>0.004159</td>\n",
       "    </tr>\n",
       "    <tr>\n",
       "      <th>1769</th>\n",
       "      <td>2018.06</td>\n",
       "      <td>0.021110</td>\n",
       "      <td>0.001594</td>\n",
       "    </tr>\n",
       "    <tr>\n",
       "      <th>1770</th>\n",
       "      <td>2018.07</td>\n",
       "      <td>0.015799</td>\n",
       "      <td>0.000067</td>\n",
       "    </tr>\n",
       "    <tr>\n",
       "      <th>1771</th>\n",
       "      <td>2018.08</td>\n",
       "      <td>0.024487</td>\n",
       "      <td>0.000556</td>\n",
       "    </tr>\n",
       "    <tr>\n",
       "      <th>1772</th>\n",
       "      <td>2018.09</td>\n",
       "      <td>0.016788</td>\n",
       "      <td>0.000278</td>\n",
       "    </tr>\n",
       "    <tr>\n",
       "      <th>1773</th>\n",
       "      <td>2018.10</td>\n",
       "      <td>-0.039918</td>\n",
       "      <td>0.000139</td>\n",
       "    </tr>\n",
       "  </tbody>\n",
       "</table>\n",
       "</div>"
      ],
      "text/plain": [
       "         Date     Yield  Inflation\n",
       "1759  2017.08  0.002487   0.002994\n",
       "1760  2017.09  0.016519   0.005295\n",
       "1761  2017.10  0.027316  -0.000632\n",
       "1762  2017.11  0.015882   0.000024\n",
       "1763  2017.12  0.028801  -0.000588\n",
       "1764  2018.01  0.048561   0.005448\n",
       "1765  2018.02 -0.028810   0.004535\n",
       "1766  2018.03  0.000658   0.002261\n",
       "1767  2018.04 -0.016601   0.003975\n",
       "1768  2018.05  0.019598   0.004159\n",
       "1769  2018.06  0.021110   0.001594\n",
       "1770  2018.07  0.015799   0.000067\n",
       "1771  2018.08  0.024487   0.000556\n",
       "1772  2018.09  0.016788   0.000278\n",
       "1773  2018.10 -0.039918   0.000139"
      ]
     },
     "execution_count": 3,
     "metadata": {},
     "output_type": "execute_result"
    }
   ],
   "source": [
    "# Parse data from Shiller (1870 - now)\n",
    "# http://www.econ.yale.edu/~shiller/data.htm\n",
    "data = pd.read_csv(\"SP500-Shiller.csv\", delimiter='\\t')\n",
    "data['Stock yield'] = data['P'].pct_change().fillna(0.0)\n",
    "data['Div yield'] = (data['D'] / data['P']).fillna(0.0) / 12 # Shiller uses div yield of trailing 12 months\n",
    "data['Inflation'] = data['CPI'].pct_change().fillna(0.0)\n",
    "data['Yield'] =  data['Stock yield'] + data['Div yield']\n",
    "data = data[['Date','Yield', 'Inflation']]\n",
    "\n",
    "datasets['Shiller'] = data\n",
    "print(\"Data size for Shiller's S&P 500 data is %d\" % len(data.index))\n",
    "data.tail(15)"
   ]
  },
  {
   "cell_type": "code",
   "execution_count": null,
   "metadata": {},
   "outputs": [],
   "source": []
  },
  {
   "cell_type": "code",
   "execution_count": 4,
   "metadata": {},
   "outputs": [
    {
     "data": {
      "text/plain": [
       "11414"
      ]
     },
     "execution_count": 4,
     "metadata": {},
     "output_type": "execute_result"
    }
   ],
   "source": [
    "def vermogensbelasting_2016(capital, gains=0):\n",
    "    return max(0, round(0.012 * (capital-(2*24437)))) # met partner\n",
    "\n",
    "assert vermogensbelasting_2016(0) == 0\n",
    "assert vermogensbelasting_2016(150000) == 1214 # Belastingdienst.nl voorbeeld\n",
    "\n",
    "vermogensbelasting_2016(1000000)"
   ]
  },
  {
   "cell_type": "code",
   "execution_count": 5,
   "metadata": {},
   "outputs": [],
   "source": [
    "# https://www.belastingdienst.nl/wps/wcm/connect/bldcontentnl/belastingdienst/prive/vermogen_en_aanmerkelijk_belang/vermogen/belasting_betalen_over_uw_vermogen/grondslag_sparen_en_beleggen/berekenen_belasting_over_uw_inkomsten_uit_vermogen_vanaf_2017/\n",
    "def vermogensbelasting_2017(capital, gains=0):\n",
    "    taxable = capital - 25000\n",
    "    if taxable <= 0:\n",
    "        return 0\n",
    "    \n",
    "    schijf_1 = min(75000, taxable)\n",
    "    schijf_2 = max(min(975000, taxable)-75000, 0)\n",
    "    schijf_3 = max(taxable - 975000, 0)\n",
    "    \n",
    "    return round((0.02871 * schijf_1 + 0.04600 * schijf_2 + 0.0539 * schijf_3) * 0.30)\n",
    "\n",
    "assert vermogensbelasting_2017(0) == 0\n",
    "assert vermogensbelasting_2017(125000) == 991\n",
    "assert vermogensbelasting_2017(1250000) == 17108"
   ]
  },
  {
   "cell_type": "code",
   "execution_count": 10,
   "metadata": {},
   "outputs": [],
   "source": [
    "# https://www.belastingdienst.nl/wps/wcm/connect/bldcontentnl/belastingdienst/prive/vermogen_en_aanmerkelijk_belang/vermogen/belasting_betalen_over_uw_vermogen/grondslag_sparen_en_beleggen/berekening-2018/\n",
    "def vermogensbelasting_2018(capital, gains=0):\n",
    "    taxable = capital - 30000\n",
    "    if taxable < 0:\n",
    "        return 0\n",
    "    \n",
    "    schijf_1 = min(70800, taxable)\n",
    "    schijf_2 = max(min(978000, taxable)-70800, 0)\n",
    "    schijf_3 = max(taxable - 978000, 0)\n",
    "    \n",
    "    return round((0.02017 * schijf_1 + 0.04326 * schijf_2 + 0.0538 * schijf_3) * 0.30)\n",
    "\n",
    "assert vermogensbelasting_2018(0) == 0\n",
    "assert vermogensbelasting_2018(130000) == 807\n",
    "assert vermogensbelasting_2018(1255000) == 16189"
   ]
  },
  {
   "cell_type": "code",
   "execution_count": 7,
   "metadata": {},
   "outputs": [],
   "source": [
    "def vermogensbelasting_rendement(capital, gains):\n",
    "    return max(0, gains * 0.30)\n",
    "\n",
    "assert vermogensbelasting_rendement(0, 1000) == 300"
   ]
  },
  {
   "cell_type": "code",
   "execution_count": 7,
   "metadata": {},
   "outputs": [],
   "source": [
    "def vennootschapsbelasting(capital, gains):\n",
    "    schijf_1 = min(200000, gains)\n",
    "    schijf_2 = max(gains-200000, 0)\n",
    "    return round(max(0, 0.20 * schijf_1 + 0.25 * schijf_2))\n",
    "\n",
    "assert vennootschapsbelasting(0, 200000) == 40000"
   ]
  },
  {
   "cell_type": "code",
   "execution_count": 8,
   "metadata": {},
   "outputs": [],
   "source": [
    "dataset = datasets['Shiller']\n",
    "\n",
    "def simulate_run(p, capital_start, withdrawal_start, months, tax_fn=None):\n",
    "    sample = dataset.iloc[p:p+months]\n",
    "    inflation = (1 + sample['Inflation']).cumprod()\n",
    "    withdrawals = withdrawal_start * inflation\n",
    "    \n",
    "    capital = capital_start\n",
    "    for i in sample.index:\n",
    "        gain = capital * sample.at[i, 'Yield']\n",
    "        taxes = 0\n",
    "        if tax_fn and i % 12 == 0:\n",
    "            taxes = tax_fn(capital, gain)\n",
    "            \n",
    "        capital = capital + gain - taxes - withdrawals[i]\n",
    "    \n",
    "    return capital # end value\n",
    "        \n",
    "def simulate(initial_capital, withdrawal_rate, duration_in_years=30, tax_fn=None):\n",
    "    months = duration_in_years * 12\n",
    "    initial_withdrawal = withdrawal_rate / 12 * initial_capital \n",
    "    index = np.arange(0, len(dataset) - months)    \n",
    "    results = pd.Series((simulate_run(p, initial_capital, initial_withdrawal, months, tax_fn) for p in index), index=index, name='end_value')        \n",
    "    return results\n",
    "\n",
    "def success_rate(results, min_capital=0):\n",
    "    return len(results[results > min_capital]) / len(results)"
   ]
  },
  {
   "cell_type": "code",
   "execution_count": 76,
   "metadata": {},
   "outputs": [
    {
     "name": "stdout",
     "output_type": "stream",
     "text": [
      "End value was higher than 0 in 98% of all simulations\n",
      "End value was higher than initial capital (adjusted for inflation) in 87% of all simulations\n",
      "7.72 s ± 0 ns per loop (mean ± std. dev. of 1 run, 1 loop each)\n"
     ]
    }
   ],
   "source": [
    "# Tax-free simulation with a 4% withdrawal rate over 30 years. \n",
    "# Should yield a success rate of about 98% (to match the Trinity study results)\n",
    "simulate(540000, 0.0, 30)"
   ]
  },
  {
   "cell_type": "code",
   "execution_count": 46,
   "metadata": {},
   "outputs": [],
   "source": [
    "capital = 1200000 # initial capital\n",
    "duration = 30 # years\n",
    "withdrawal_rates = [3, 3.2, 3.4, 3.6, 3.8, 4, 4.2]\n",
    "\n",
    "def run(capital, wr, duration, tax_fn):\n",
    "    run = simulate(capital, wr/100, duration, tax_fn)\n",
    "    capital_infl_adjusted = capital * pow(1.02, duration)\n",
    "    return [success_rate(run) * 100, success_rate(run, capital_infl_adjusted*0.5) * 100, success_rate(run, capital_infl_adjusted) * 100]\n",
    "\n",
    "data = {}\n",
    "for wr in withdrawal_rates:\n",
    "    sr_vermogensbelasting = run(capital*0.75, wr, duration, vermogensbelasting_2018)\n",
    "    sr_vennootschapsbelasting = run(capital, wr, duration, vennootschapsbelasting)\n",
    "\n",
    "    data[wr] = { \n",
    "        ('vermogensbelasting', '> 0'): sr_vermogensbelasting[0], \n",
    "        ('vermogensbelasting', '> 50%'): sr_vermogensbelasting[1], \n",
    "        ('vermogensbelasting', '> 100%'): sr_vermogensbelasting[2],\n",
    "        ('vennootschapsbelasting', '> 0'): sr_vennootschapsbelasting[0],\n",
    "        ('vennootschapsbelasting', '> 50%'): sr_vennootschapsbelasting[1],\n",
    "        ('vennootschapsbelasting', '> 100%'): sr_vennootschapsbelasting[2],\n",
    "    }\n",
    "\n",
    "results = pd.DataFrame(data)\n",
    "results_30y_1200k = results"
   ]
  },
  {
   "cell_type": "code",
   "execution_count": 47,
   "metadata": {},
   "outputs": [
    {
     "data": {
      "text/html": [
       "<div>\n",
       "<style scoped>\n",
       "    .dataframe tbody tr th:only-of-type {\n",
       "        vertical-align: middle;\n",
       "    }\n",
       "\n",
       "    .dataframe tbody tr th {\n",
       "        vertical-align: top;\n",
       "    }\n",
       "\n",
       "    .dataframe thead th {\n",
       "        text-align: right;\n",
       "    }\n",
       "</style>\n",
       "<table border=\"1\" class=\"dataframe\">\n",
       "  <thead>\n",
       "    <tr style=\"text-align: right;\">\n",
       "      <th></th>\n",
       "      <th></th>\n",
       "      <th>3.0</th>\n",
       "      <th>3.2</th>\n",
       "      <th>3.4</th>\n",
       "      <th>3.6</th>\n",
       "      <th>3.8</th>\n",
       "      <th>4.0</th>\n",
       "      <th>4.2</th>\n",
       "    </tr>\n",
       "  </thead>\n",
       "  <tbody>\n",
       "    <tr>\n",
       "      <th rowspan=\"3\" valign=\"top\">vennootschapsbelasting</th>\n",
       "      <th>&gt; 0</th>\n",
       "      <td>99.929279</td>\n",
       "      <td>99.858557</td>\n",
       "      <td>99.717115</td>\n",
       "      <td>99.222065</td>\n",
       "      <td>97.524752</td>\n",
       "      <td>95.403112</td>\n",
       "      <td>93.635078</td>\n",
       "    </tr>\n",
       "    <tr>\n",
       "      <th>&gt; 100%</th>\n",
       "      <td>96.251768</td>\n",
       "      <td>94.059406</td>\n",
       "      <td>91.371994</td>\n",
       "      <td>87.623762</td>\n",
       "      <td>85.219236</td>\n",
       "      <td>81.471004</td>\n",
       "      <td>76.803395</td>\n",
       "    </tr>\n",
       "    <tr>\n",
       "      <th>&gt; 50%</th>\n",
       "      <td>99.717115</td>\n",
       "      <td>99.363508</td>\n",
       "      <td>98.727016</td>\n",
       "      <td>96.746818</td>\n",
       "      <td>92.008487</td>\n",
       "      <td>88.260255</td>\n",
       "      <td>84.653465</td>\n",
       "    </tr>\n",
       "    <tr>\n",
       "      <th rowspan=\"3\" valign=\"top\">vermogensbelasting</th>\n",
       "      <th>&gt; 0</th>\n",
       "      <td>99.858557</td>\n",
       "      <td>99.717115</td>\n",
       "      <td>98.797737</td>\n",
       "      <td>96.251768</td>\n",
       "      <td>94.625177</td>\n",
       "      <td>91.654880</td>\n",
       "      <td>87.482320</td>\n",
       "    </tr>\n",
       "    <tr>\n",
       "      <th>&gt; 100%</th>\n",
       "      <td>90.099010</td>\n",
       "      <td>86.350778</td>\n",
       "      <td>81.612447</td>\n",
       "      <td>75.884017</td>\n",
       "      <td>70.367751</td>\n",
       "      <td>64.992928</td>\n",
       "      <td>60.891089</td>\n",
       "    </tr>\n",
       "    <tr>\n",
       "      <th>&gt; 50%</th>\n",
       "      <td>98.797737</td>\n",
       "      <td>95.898161</td>\n",
       "      <td>91.301273</td>\n",
       "      <td>87.694484</td>\n",
       "      <td>84.865629</td>\n",
       "      <td>81.258840</td>\n",
       "      <td>77.439887</td>\n",
       "    </tr>\n",
       "  </tbody>\n",
       "</table>\n",
       "</div>"
      ],
      "text/plain": [
       "                                     3.0        3.2        3.4        3.6  \\\n",
       "vennootschapsbelasting > 0     99.929279  99.858557  99.717115  99.222065   \n",
       "                       > 100%  96.251768  94.059406  91.371994  87.623762   \n",
       "                       > 50%   99.717115  99.363508  98.727016  96.746818   \n",
       "vermogensbelasting     > 0     99.858557  99.717115  98.797737  96.251768   \n",
       "                       > 100%  90.099010  86.350778  81.612447  75.884017   \n",
       "                       > 50%   98.797737  95.898161  91.301273  87.694484   \n",
       "\n",
       "                                     3.8        4.0        4.2  \n",
       "vennootschapsbelasting > 0     97.524752  95.403112  93.635078  \n",
       "                       > 100%  85.219236  81.471004  76.803395  \n",
       "                       > 50%   92.008487  88.260255  84.653465  \n",
       "vermogensbelasting     > 0     94.625177  91.654880  87.482320  \n",
       "                       > 100%  70.367751  64.992928  60.891089  \n",
       "                       > 50%   84.865629  81.258840  77.439887  "
      ]
     },
     "execution_count": 47,
     "metadata": {},
     "output_type": "execute_result"
    }
   ],
   "source": [
    "results_30y_1200k\n"
   ]
  },
  {
   "cell_type": "code",
   "execution_count": 25,
   "metadata": {},
   "outputs": [
    {
     "data": {
      "text/plain": [
       "Text(0.5, 1.025, 'Vermogen = €900K prive / €1.2M zakelijk    Duur = 30 jaar')"
      ]
     },
     "execution_count": 25,
     "metadata": {},
     "output_type": "execute_result"
    },
    {
     "data": {
      "image/png": "[encoded data removed]",
      "text/plain": [
       "<Figure size 432x288 with 1 Axes>"
      ]
     },
     "metadata": {},
     "output_type": "display_data"
    }
   ],
   "source": [
    "ax = results_30y_1200k.rename({('success rate', 'vermogensbelasting 2018'): 'foo'}).plot(grid=True)\n",
    "plt.suptitle(\"Success ratio per WR\", y=1.03, fontsize=14)\n",
    "ax.set_ylabel(\"success rate\")\n",
    "ax.legend([\"Prive (VRH)\", \"Zakelijk (VPB)\"]);\n",
    "plt.title(\"Vermogen = €900K prive / €1.2M zakelijk    Duur = 30 jaar\", fontsize=12, y=1.025,  color='grey')"
   ]
  },
  {
   "cell_type": "code",
   "execution_count": 19,
   "metadata": {},
   "outputs": [],
   "source": [
    "capital = 1200000 # initial capital\n",
    "duration = 40 # years\n",
    "withdrawal_rates = [3, 3.2, 3.4, 3.6, 3.8, 4]\n",
    "\n",
    "results = pd.DataFrame(index=withdrawal_rates)\n",
    "for wr in results.index:\n",
    "    run = simulate(capital*0.75, wr/100, duration, vermogensbelasting_2018)\n",
    "    results.at[wr, 'vermogensbelasting 2018'] = success_rate(run) * 100\n",
    "    \n",
    "    run = simulate(capital, wr/100, duration, vennootschapsbelasting)\n",
    "    results.at[wr, 'vennootschapsbelasting 2018'] = success_rate(run) * 100\n",
    "    \n",
    "results_40y_1200k = results"
   ]
  },
  {
   "cell_type": "code",
   "execution_count": 22,
   "metadata": {},
   "outputs": [
    {
     "data": {
      "text/html": [
       "<div>\n",
       "<style scoped>\n",
       "    .dataframe tbody tr th:only-of-type {\n",
       "        vertical-align: middle;\n",
       "    }\n",
       "\n",
       "    .dataframe tbody tr th {\n",
       "        vertical-align: top;\n",
       "    }\n",
       "\n",
       "    .dataframe thead th {\n",
       "        text-align: right;\n",
       "    }\n",
       "</style>\n",
       "<table border=\"1\" class=\"dataframe\">\n",
       "  <thead>\n",
       "    <tr style=\"text-align: right;\">\n",
       "      <th></th>\n",
       "      <th>vermogensbelasting 2018</th>\n",
       "      <th>vennootschapsbelasting 2018</th>\n",
       "    </tr>\n",
       "  </thead>\n",
       "  <tbody>\n",
       "    <tr>\n",
       "      <th>3.0</th>\n",
       "      <td>99.690881</td>\n",
       "      <td>99.768161</td>\n",
       "    </tr>\n",
       "    <tr>\n",
       "      <th>3.2</th>\n",
       "      <td>98.299845</td>\n",
       "      <td>99.690881</td>\n",
       "    </tr>\n",
       "    <tr>\n",
       "      <th>3.4</th>\n",
       "      <td>94.976816</td>\n",
       "      <td>99.304482</td>\n",
       "    </tr>\n",
       "    <tr>\n",
       "      <th>3.6</th>\n",
       "      <td>91.421947</td>\n",
       "      <td>98.222566</td>\n",
       "    </tr>\n",
       "    <tr>\n",
       "      <th>3.8</th>\n",
       "      <td>84.930448</td>\n",
       "      <td>95.440495</td>\n",
       "    </tr>\n",
       "    <tr>\n",
       "      <th>4.0</th>\n",
       "      <td>80.525502</td>\n",
       "      <td>92.272025</td>\n",
       "    </tr>\n",
       "  </tbody>\n",
       "</table>\n",
       "</div>"
      ],
      "text/plain": [
       "     vermogensbelasting 2018  vennootschapsbelasting 2018\n",
       "3.0                99.690881                    99.768161\n",
       "3.2                98.299845                    99.690881\n",
       "3.4                94.976816                    99.304482\n",
       "3.6                91.421947                    98.222566\n",
       "3.8                84.930448                    95.440495\n",
       "4.0                80.525502                    92.272025"
      ]
     },
     "execution_count": 22,
     "metadata": {},
     "output_type": "execute_result"
    }
   ],
   "source": [
    "results_40y_1200k"
   ]
  },
  {
   "cell_type": "code",
   "execution_count": 21,
   "metadata": {},
   "outputs": [
    {
     "data": {
      "text/plain": [
       "Text(0.5, 1.02, 'Vermogen: €1.2M   Duur: 40 jaar')"
      ]
     },
     "execution_count": 21,
     "metadata": {},
     "output_type": "execute_result"
    },
    {
     "data": {
      "image/png": "[encoded data removed]",
      "text/plain": [
       "<Figure size 432x288 with 1 Axes>"
      ]
     },
     "metadata": {},
     "output_type": "display_data"
    }
   ],
   "source": [
    "results_40y_1200k.plot(grid=True)\n",
    "plt.suptitle(\"Success ratio per WR\", y=1.02, fontsize=14)\n",
    "plt.title(\"Vermogen: €900K / €1.2M   Duur: 40 jaar\", fontsize=12, y=1.02, color='grey')"
   ]
  },
  {
   "cell_type": "code",
   "execution_count": 8,
   "metadata": {},
   "outputs": [],
   "source": [
    "capital = 300000 # initial capital\n",
    "duration = 15 # years\n",
    "withdrawal_rates = [ 4, 4.4, 4.8, 5.2, 5.6, 6]\n",
    "\n",
    "def run(capital, wr, duration):\n",
    "    run = simulate(capital, wr/100, duration)\n",
    "    capital_infl_adjusted = capital * pow(1.02, duration)\n",
    "    return [success_rate(run) * 100, success_rate(run, capital_infl_adjusted) * 100]\n",
    "\n",
    "data = {}\n",
    "for wr in withdrawal_rates:\n",
    "    results = run(capital, wr, duration)\n",
    "    data[wr] = { \n",
    "        '> 0': results[0], \n",
    "        '> 100%': results[1],\n",
    "    }\n",
    "\n",
    "results = pd.DataFrame(data)\n",
    "results_15y_300k = results"
   ]
  },
  {
   "cell_type": "code",
   "execution_count": 9,
   "metadata": {},
   "outputs": [
    {
     "data": {
      "text/html": [
       "<div>\n",
       "<style scoped>\n",
       "    .dataframe tbody tr th:only-of-type {\n",
       "        vertical-align: middle;\n",
       "    }\n",
       "\n",
       "    .dataframe tbody tr th {\n",
       "        vertical-align: top;\n",
       "    }\n",
       "\n",
       "    .dataframe thead th {\n",
       "        text-align: right;\n",
       "    }\n",
       "</style>\n",
       "<table border=\"1\" class=\"dataframe\">\n",
       "  <thead>\n",
       "    <tr style=\"text-align: right;\">\n",
       "      <th></th>\n",
       "      <th>4.0</th>\n",
       "      <th>4.4</th>\n",
       "      <th>4.8</th>\n",
       "      <th>5.2</th>\n",
       "      <th>5.6</th>\n",
       "      <th>6.0</th>\n",
       "    </tr>\n",
       "  </thead>\n",
       "  <tbody>\n",
       "    <tr>\n",
       "      <th>&gt; 0</th>\n",
       "      <td>100.00000</td>\n",
       "      <td>99.937265</td>\n",
       "      <td>99.749059</td>\n",
       "      <td>99.560853</td>\n",
       "      <td>97.490590</td>\n",
       "      <td>94.102886</td>\n",
       "    </tr>\n",
       "    <tr>\n",
       "      <th>&gt; 100%</th>\n",
       "      <td>74.34128</td>\n",
       "      <td>68.381430</td>\n",
       "      <td>63.550816</td>\n",
       "      <td>59.410289</td>\n",
       "      <td>54.328733</td>\n",
       "      <td>49.435383</td>\n",
       "    </tr>\n",
       "  </tbody>\n",
       "</table>\n",
       "</div>"
      ],
      "text/plain": [
       "              4.0        4.4        4.8        5.2        5.6        6.0\n",
       "> 0     100.00000  99.937265  99.749059  99.560853  97.490590  94.102886\n",
       "> 100%   74.34128  68.381430  63.550816  59.410289  54.328733  49.435383"
      ]
     },
     "execution_count": 9,
     "metadata": {},
     "output_type": "execute_result"
    }
   ],
   "source": [
    "results_15y_300k"
   ]
  },
  {
   "cell_type": "code",
   "execution_count": 13,
   "metadata": {},
   "outputs": [
    {
     "data": {
      "text/plain": [
       "Text(0.5, 1.02, 'Vermogen: €300K  Duur: 15 jaar')"
      ]
     },
     "execution_count": 13,
     "metadata": {},
     "output_type": "execute_result"
    },
    {
     "data": {
      "image/png": "[encoded data removed]",
      "text/plain": [
       "<Figure size 432x288 with 1 Axes>"
      ]
     },
     "metadata": {
      "needs_background": "light"
     },
     "output_type": "display_data"
    }
   ],
   "source": [
    "results_15y_300k.plot(grid=True)\n",
    "plt.suptitle(\"Success ratio per WR\", y=1.02, fontsize=14)\n",
    "plt.title(\"Vermogen: €300K  Duur: 15 jaar\", fontsize=12, y=1.02, color='grey')"
   ]
  },
  {
   "cell_type": "code",
   "execution_count": 11,
   "metadata": {},
   "outputs": [],
   "source": [
    "capital = 1000000 # initial capital\n",
    "duration = 30 # years\n",
    "withdrawal_rates = [3.4, 3.6, 3.8, 4, 4.2, 4.4]\n",
    "\n",
    "results = pd.DataFrame(index=withdrawal_rates)\n",
    "for wr in results.index:\n",
    "    run = simulate(capital, wr/100, duration, vermogensbelasting_2018)\n",
    "    results.at[wr, 'vermogensbelasting 2018'] = success_rate(run) * 100\n",
    "    \n",
    "    run = simulate(capital, wr/100, duration, vermogensbelasting_rendement)\n",
    "    results.at[wr, 'vennootschapsbelasting 2018'] = success_rate(run) * 100\n",
    "    \n",
    "results_30y_1000k_rendement = results"
   ]
  },
  {
   "cell_type": "code",
   "execution_count": 24,
   "metadata": {},
   "outputs": [],
   "source": [
    "results_30y_1000k_rendement = results_30y_1000k_rendement.rename(columns={\"vennootschapsbelasting 2018\": \"30% over rendement\"})"
   ]
  },
  {
   "cell_type": "code",
   "execution_count": 25,
   "metadata": {},
   "outputs": [
    {
     "data": {
      "text/plain": [
       "Text(0.5, 0, 'Withdrawal rate')"
      ]
     },
     "execution_count": 25,
     "metadata": {},
     "output_type": "execute_result"
    },
    {
     "data": {
      "image/png": "[encoded data removed]",
      "text/plain": [
       "<Figure size 432x288 with 1 Axes>"
      ]
     },
     "metadata": {
      "needs_background": "light"
     },
     "output_type": "display_data"
    }
   ],
   "source": [
    "ax = results_30y_1000k_rendement.plot(grid=True, title=\"Success ratio per WR\")\n",
    "ax.set_ylabel(\"Success rate\")\n",
    "ax.set_xlabel(\"Withdrawal rate\")\n"
   ]
  },
  {
   "cell_type": "code",
   "execution_count": null,
   "metadata": {},
   "outputs": [],
   "source": []
  }
 ],
 "metadata": {
  "kernelspec": {
   "display_name": "Python 3",
   "language": "python",
   "name": "python3"
  },
  "language_info": {
   "codemirror_mode": {
    "name": "ipython",
    "version": 3
   },
   "file_extension": ".py",
   "mimetype": "text/x-python",
   "name": "python",
   "nbconvert_exporter": "python",
   "pygments_lexer": "ipython3",
   "version": "3.7.2"
  }
 },
 "nbformat": 4,
 "nbformat_minor": 2
}
