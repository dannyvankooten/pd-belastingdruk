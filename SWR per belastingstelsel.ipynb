{
 "cells": [
  {
   "cell_type": "code",
   "execution_count": 1,
   "metadata": {},
   "outputs": [],
   "source": [
    "import pandas as pd\n",
    "import numpy as np\n",
    "import matplotlib.pyplot as plt\n",
    "from matplotlib.ticker import FuncFormatter\n",
    "\n",
    "datasets = {}"
   ]
  },
  {
   "cell_type": "code",
   "execution_count": 2,
   "metadata": {},
   "outputs": [
    {
     "name": "stdout",
     "output_type": "stream",
     "text": [
      "Data size for Yahoo's S&P 500 data is 826\n"
     ]
    },
    {
     "data": {
      "text/html": [
       "<div>\n",
       "<style scoped>\n",
       "    .dataframe tbody tr th:only-of-type {\n",
       "        vertical-align: middle;\n",
       "    }\n",
       "\n",
       "    .dataframe tbody tr th {\n",
       "        vertical-align: top;\n",
       "    }\n",
       "\n",
       "    .dataframe thead th {\n",
       "        text-align: right;\n",
       "    }\n",
       "</style>\n",
       "<table border=\"1\" class=\"dataframe\">\n",
       "  <thead>\n",
       "    <tr style=\"text-align: right;\">\n",
       "      <th></th>\n",
       "      <th>Yield</th>\n",
       "      <th>Inflation</th>\n",
       "    </tr>\n",
       "    <tr>\n",
       "      <th>Date</th>\n",
       "      <th></th>\n",
       "      <th></th>\n",
       "    </tr>\n",
       "  </thead>\n",
       "  <tbody>\n",
       "    <tr>\n",
       "      <th>2018-07-31</th>\n",
       "      <td>0.036022</td>\n",
       "      <td>0.001667</td>\n",
       "    </tr>\n",
       "    <tr>\n",
       "      <th>2018-08-31</th>\n",
       "      <td>0.030263</td>\n",
       "      <td>0.001667</td>\n",
       "    </tr>\n",
       "    <tr>\n",
       "      <th>2018-09-28</th>\n",
       "      <td>0.004294</td>\n",
       "      <td>0.001667</td>\n",
       "    </tr>\n",
       "    <tr>\n",
       "      <th>2018-10-31</th>\n",
       "      <td>-0.071521</td>\n",
       "      <td>0.001667</td>\n",
       "    </tr>\n",
       "  </tbody>\n",
       "</table>\n",
       "</div>"
      ],
      "text/plain": [
       "               Yield  Inflation\n",
       "Date                           \n",
       "2018-07-31  0.036022   0.001667\n",
       "2018-08-31  0.030263   0.001667\n",
       "2018-09-28  0.004294   0.001667\n",
       "2018-10-31 -0.071521   0.001667"
      ]
     },
     "execution_count": 2,
     "metadata": {},
     "output_type": "execute_result"
    }
   ],
   "source": [
    "# Parse data from Yahoo (1950 - now)\n",
    "# https://finance.yahoo.com/quote/%5EGSPC/history?p=%5EGSPC\n",
    "data = pd.read_csv('SP500-Yahoo-Daily.csv', index_col='Date', parse_dates=['Date'])\n",
    "data = data.resample('BM').apply(lambda x: x[-1])\n",
    "data['Yield'] = data['Adj Close'].pct_change().fillna(0.0)\n",
    "data = data[['Yield']]\n",
    "data['Inflation'] = 0.02 / 12 # Fixed inflation at 2%, we can do better if we use Shiller's data here\n",
    "\n",
    "datasets['Yahoo'] = data\n",
    "print(\"Data size for Yahoo's S&P 500 data is %d\" % len(data.index))\n",
    "data.tail(4)"
   ]
  },
  {
   "cell_type": "code",
   "execution_count": 3,
   "metadata": {},
   "outputs": [
    {
     "name": "stdout",
     "output_type": "stream",
     "text": [
      "Data size for Shiller's S&P 500 data is 1774\n"
     ]
    },
    {
     "data": {
      "text/html": [
       "<div>\n",
       "<style scoped>\n",
       "    .dataframe tbody tr th:only-of-type {\n",
       "        vertical-align: middle;\n",
       "    }\n",
       "\n",
       "    .dataframe tbody tr th {\n",
       "        vertical-align: top;\n",
       "    }\n",
       "\n",
       "    .dataframe thead th {\n",
       "        text-align: right;\n",
       "    }\n",
       "</style>\n",
       "<table border=\"1\" class=\"dataframe\">\n",
       "  <thead>\n",
       "    <tr style=\"text-align: right;\">\n",
       "      <th></th>\n",
       "      <th>Yield</th>\n",
       "      <th>Inflation</th>\n",
       "    </tr>\n",
       "    <tr>\n",
       "      <th>Date</th>\n",
       "      <th></th>\n",
       "      <th></th>\n",
       "    </tr>\n",
       "  </thead>\n",
       "  <tbody>\n",
       "    <tr>\n",
       "      <th>2018.08</th>\n",
       "      <td>0.024487</td>\n",
       "      <td>0.000556</td>\n",
       "    </tr>\n",
       "    <tr>\n",
       "      <th>2018.09</th>\n",
       "      <td>0.016788</td>\n",
       "      <td>0.000278</td>\n",
       "    </tr>\n",
       "    <tr>\n",
       "      <th>2018.10</th>\n",
       "      <td>-0.039918</td>\n",
       "      <td>0.000139</td>\n",
       "    </tr>\n",
       "  </tbody>\n",
       "</table>\n",
       "</div>"
      ],
      "text/plain": [
       "            Yield  Inflation\n",
       "Date                        \n",
       "2018.08  0.024487   0.000556\n",
       "2018.09  0.016788   0.000278\n",
       "2018.10 -0.039918   0.000139"
      ]
     },
     "execution_count": 3,
     "metadata": {},
     "output_type": "execute_result"
    }
   ],
   "source": [
    "# Parse data from Shiller (1870 - now)\n",
    "# http://www.econ.yale.edu/~shiller/data.htm\n",
    "data = pd.read_csv(\"SP500-Shiller.csv\", delimiter='\\t', index_col='Date')\n",
    "data['Stock yield'] = data['P'].pct_change().fillna(0.0)\n",
    "data['Div yield'] = (data['D'] / data['P']).fillna(0.0) / 12 # Shiller uses div yield of trailing 12 months\n",
    "data['Inflation'] = data['CPI'].pct_change().fillna(0.0)\n",
    "data['Yield'] =  data['Stock yield'] + data['Div yield']\n",
    "data = data[['Yield', 'Inflation']]\n",
    "\n",
    "datasets['Shiller'] = data\n",
    "print(\"Data size for Shiller's S&P 500 data is %d\" % len(data.index))\n",
    "data.tail(3)"
   ]
  },
  {
   "cell_type": "code",
   "execution_count": 4,
   "metadata": {},
   "outputs": [
    {
     "data": {
      "text/plain": [
       "11414"
      ]
     },
     "execution_count": 4,
     "metadata": {},
     "output_type": "execute_result"
    }
   ],
   "source": [
    "def vermogensbelasting_2016(capital, gains=0):\n",
    "    return max(0, round(0.012 * (capital-(2*24437)))) # met partner\n",
    "\n",
    "assert vermogensbelasting_2016(0) == 0\n",
    "assert vermogensbelasting_2016(150000) == 1214 # Belastingdienst.nl voorbeeld\n",
    "\n",
    "vermogensbelasting_2016(1000000)"
   ]
  },
  {
   "cell_type": "code",
   "execution_count": 5,
   "metadata": {},
   "outputs": [],
   "source": [
    "# https://www.belastingdienst.nl/wps/wcm/connect/bldcontentnl/belastingdienst/prive/vermogen_en_aanmerkelijk_belang/vermogen/belasting_betalen_over_uw_vermogen/grondslag_sparen_en_beleggen/berekenen_belasting_over_uw_inkomsten_uit_vermogen_vanaf_2017/\n",
    "def vermogensbelasting_2017(capital, gains=0):\n",
    "    taxable = capital - 25000\n",
    "    if taxable <= 0:\n",
    "        return 0\n",
    "    \n",
    "    schijf_1 = min(75000, taxable)\n",
    "    schijf_2 = max(min(975000, taxable)-75000, 0)\n",
    "    schijf_3 = max(taxable - 975000, 0)\n",
    "    \n",
    "    return round((0.02871 * schijf_1 + 0.04600 * schijf_2 + 0.0539 * schijf_3) * 0.30)\n",
    "\n",
    "assert vermogensbelasting_2017(0) == 0\n",
    "assert vermogensbelasting_2017(125000) == 991\n",
    "assert vermogensbelasting_2017(1250000) == 17108"
   ]
  },
  {
   "cell_type": "code",
   "execution_count": 6,
   "metadata": {},
   "outputs": [],
   "source": [
    "# https://www.belastingdienst.nl/wps/wcm/connect/bldcontentnl/belastingdienst/prive/vermogen_en_aanmerkelijk_belang/vermogen/belasting_betalen_over_uw_vermogen/grondslag_sparen_en_beleggen/berekening-2018/\n",
    "def vermogensbelasting_2018(capital, gains=0):\n",
    "    taxable = capital - 30000\n",
    "    if taxable < 0:\n",
    "        return 0\n",
    "    \n",
    "    schijf_1 = min(70800, taxable)\n",
    "    schijf_2 = max(min(978000, taxable)-70800, 0)\n",
    "    schijf_3 = max(taxable - 978000, 0)\n",
    "    \n",
    "    return round((0.02017 * schijf_1 + 0.04326 * schijf_2 + 0.0538 * schijf_3) * 0.30)\n",
    "\n",
    "assert vermogensbelasting_2018(0) == 0\n",
    "assert vermogensbelasting_2018(130000) == 807\n",
    "assert vermogensbelasting_2018(1255000) == 16189"
   ]
  },
  {
   "cell_type": "code",
   "execution_count": 7,
   "metadata": {},
   "outputs": [],
   "source": [
    "def vennootschapsbelasting(capital, gains):\n",
    "    schijf_1 = min(200000, gains)\n",
    "    schijf_2 = max(gains-200000, 0)\n",
    "    return round(max(0, 0.20 * schijf_1 + 0.25 * schijf_2))\n",
    "\n",
    "assert vennootschapsbelasting(0, 200000) == 40000"
   ]
  },
  {
   "cell_type": "code",
   "execution_count": 8,
   "metadata": {},
   "outputs": [],
   "source": [
    "def simulate(initial_capital, withdrawal_rate, duration_in_years=30, tax_fn=None):  \n",
    "    months = duration_in_years * 12\n",
    "    run_index = np.arange(0, months)\n",
    "    initial_data = {'capital': 0.0, 'market_return': 0.0,'withdrawal': 0.0, 'taxes': 0.0}\n",
    "    \n",
    "    dataset = datasets['Shiller']\n",
    "    n = len(dataset.index)    \n",
    "    results = pd.DataFrame(index=np.arange(0, n - months), data={'end_value': 0.0})\n",
    "\n",
    "    for p in results.index:\n",
    "        run = pd.DataFrame(index=run_index, data=initial_data)\n",
    "        run.index.name = 'month'\n",
    "\n",
    "        capital = initial_capital\n",
    "        withdrawal = withdrawal_rate / 12 * initial_capital \n",
    "\n",
    "        # loop over months\n",
    "        for m in run.index:\n",
    "            i = m + p\n",
    "            row = dataset.iloc[i]\n",
    "            market_return = row['Yield']\n",
    "            gain = capital * market_return\n",
    "\n",
    "            # pay taxes every 12th month\n",
    "            taxes = 0\n",
    "            if m % 12 == 0 and tax_fn:\n",
    "                taxes = tax_fn(capital, gain)\n",
    "\n",
    "            run.at[m, 'capital'] = capital\n",
    "            run.at[m, 'market_return'] = market_return\n",
    "            run.at[m, 'withdrawal'] = withdrawal\n",
    "            run.at[m, 'taxes'] = taxes     \n",
    "\n",
    "             # withdraw inflation adjusted WR amount\n",
    "            capital -= withdrawal\n",
    "\n",
    "            # calculate inflation adjusted withdrawal amount\n",
    "            withdrawal = withdrawal * ( 1 + row['Inflation'] )\n",
    "\n",
    "            # add capital gains\n",
    "            capital += gain\n",
    "\n",
    "            # pay taxes\n",
    "            capital -= taxes\n",
    "\n",
    "            # at the end of simulation, add to results dataframe\n",
    "            if m == months-1:\n",
    "                results.at[p, 'end_value'] = capital\n",
    "    \n",
    "    return results\n",
    "\n",
    "def success_rate(results, min_capital=0):\n",
    "    return results[results['end_value'] > min_capital].size / results.size"
   ]
  },
  {
   "cell_type": "code",
   "execution_count": 9,
   "metadata": {},
   "outputs": [
    {
     "name": "stdout",
     "output_type": "stream",
     "text": [
      "End value was higher than 0 in 98% of all simulations\n",
      "End value was higher than initial capital (adjusted for inflation) in 87% of all simulations\n"
     ]
    }
   ],
   "source": [
    "# Tax-free simulation with a 4% withdrawal rate over 30 years. \n",
    "# Should yield a success rate of about 98% (to match the Trinity study results)\n",
    "res = simulate(1000000, 0.04, 30)\n",
    "print(\"End value was higher than 0 in {0:.0%} of all simulations\".format(success_rate(res, min_capital=0)))\n",
    "print(\"End value was higher than initial capital (adjusted for inflation) in {0:.0%} of all simulations\".format(success_rate(res, min_capital=1000000*pow(1.02, 30))))"
   ]
  },
  {
   "cell_type": "code",
   "execution_count": 18,
   "metadata": {},
   "outputs": [],
   "source": [
    "capital = 1200000 # initial capital\n",
    "duration = 30 # years\n",
    "withdrawal_rates = [3, 3.2, 3.4, 3.6, 3.8, 4, 4.2]\n",
    "\n",
    "results = pd.DataFrame(index=withdrawal_rates)\n",
    "for wr in results.index:\n",
    "    run = simulate(capital*0.75, wr/100, duration, vermogensbelasting_2018)\n",
    "    results.at[wr, 'vermogensbelasting 2018'] = success_rate(run) * 100\n",
    "    \n",
    "    run = simulate(capital, wr/100, duration, vennootschapsbelasting)\n",
    "    results.at[wr, 'vennootschapsbelasting 2018'] = success_rate(run) * 100\n",
    "\n",
    "results_30y_1200k = results"
   ]
  },
  {
   "cell_type": "code",
   "execution_count": 25,
   "metadata": {},
   "outputs": [
    {
     "data": {
      "text/html": [
       "<div>\n",
       "<style scoped>\n",
       "    .dataframe tbody tr th:only-of-type {\n",
       "        vertical-align: middle;\n",
       "    }\n",
       "\n",
       "    .dataframe tbody tr th {\n",
       "        vertical-align: top;\n",
       "    }\n",
       "\n",
       "    .dataframe thead th {\n",
       "        text-align: right;\n",
       "    }\n",
       "</style>\n",
       "<table border=\"1\" class=\"dataframe\">\n",
       "  <thead>\n",
       "    <tr style=\"text-align: right;\">\n",
       "      <th></th>\n",
       "      <th>vermogensbelasting 2018</th>\n",
       "      <th>vennootschapsbelasting 2018</th>\n",
       "    </tr>\n",
       "  </thead>\n",
       "  <tbody>\n",
       "    <tr>\n",
       "      <th>3.0</th>\n",
       "      <td>99.690881</td>\n",
       "      <td>99.768161</td>\n",
       "    </tr>\n",
       "    <tr>\n",
       "      <th>3.2</th>\n",
       "      <td>98.299845</td>\n",
       "      <td>99.690881</td>\n",
       "    </tr>\n",
       "    <tr>\n",
       "      <th>3.4</th>\n",
       "      <td>94.976816</td>\n",
       "      <td>99.304482</td>\n",
       "    </tr>\n",
       "    <tr>\n",
       "      <th>3.6</th>\n",
       "      <td>91.421947</td>\n",
       "      <td>98.222566</td>\n",
       "    </tr>\n",
       "    <tr>\n",
       "      <th>3.8</th>\n",
       "      <td>84.930448</td>\n",
       "      <td>95.440495</td>\n",
       "    </tr>\n",
       "    <tr>\n",
       "      <th>4.0</th>\n",
       "      <td>80.525502</td>\n",
       "      <td>92.272025</td>\n",
       "    </tr>\n",
       "  </tbody>\n",
       "</table>\n",
       "</div>"
      ],
      "text/plain": [
       "     vermogensbelasting 2018  vennootschapsbelasting 2018\n",
       "3.0                99.690881                    99.768161\n",
       "3.2                98.299845                    99.690881\n",
       "3.4                94.976816                    99.304482\n",
       "3.6                91.421947                    98.222566\n",
       "3.8                84.930448                    95.440495\n",
       "4.0                80.525502                    92.272025"
      ]
     },
     "execution_count": 25,
     "metadata": {},
     "output_type": "execute_result"
    }
   ],
   "source": [
    "results_30y_1200k"
   ]
  },
  {
   "cell_type": "code",
   "execution_count": 34,
   "metadata": {},
   "outputs": [
    {
     "data": {
      "text/plain": [
       "Text(0, 1.02, 'Vermogen = 900K prive / 1M zakelijk    Duur = 30 jaar')"
      ]
     },
     "execution_count": 34,
     "metadata": {},
     "output_type": "execute_result"
    },
    {
     "data": {
      "image/png": "[encoded data removed]",
      "text/plain": [
       "<Figure size 432x288 with 1 Axes>"
      ]
     },
     "metadata": {},
     "output_type": "display_data"
    }
   ],
   "source": [
    "results_30y_1200k.plot(grid=True)\n",
    "plt.suptitle(\"Success ratio per WR\", y=1.1, fontsize=14, x=0)\n",
    "plt.title(\"Vermogen = 900K prive / 1M zakelijk    Duur = 30 jaar\", fontsize=12, y=1.02, x=0, color='grey')"
   ]
  },
  {
   "cell_type": "code",
   "execution_count": 19,
   "metadata": {},
   "outputs": [],
   "source": [
    "capital = 1200000 # initial capital\n",
    "duration = 40 # years\n",
    "withdrawal_rates = [3, 3.2, 3.4, 3.6, 3.8, 4]\n",
    "\n",
    "results = pd.DataFrame(index=withdrawal_rates)\n",
    "for wr in results.index:\n",
    "    run = simulate(capital*0.75, wr/100, duration, vermogensbelasting_2018)\n",
    "    results.at[wr, 'vermogensbelasting 2018'] = success_rate(run) * 100\n",
    "    \n",
    "    run = simulate(capital, wr/100, duration, vennootschapsbelasting)\n",
    "    results.at[wr, 'vennootschapsbelasting 2018'] = success_rate(run) * 100\n",
    "    \n",
    "results_40y_1200k = results"
   ]
  },
  {
   "cell_type": "code",
   "execution_count": 22,
   "metadata": {},
   "outputs": [
    {
     "data": {
      "text/html": [
       "<div>\n",
       "<style scoped>\n",
       "    .dataframe tbody tr th:only-of-type {\n",
       "        vertical-align: middle;\n",
       "    }\n",
       "\n",
       "    .dataframe tbody tr th {\n",
       "        vertical-align: top;\n",
       "    }\n",
       "\n",
       "    .dataframe thead th {\n",
       "        text-align: right;\n",
       "    }\n",
       "</style>\n",
       "<table border=\"1\" class=\"dataframe\">\n",
       "  <thead>\n",
       "    <tr style=\"text-align: right;\">\n",
       "      <th></th>\n",
       "      <th>vermogensbelasting 2018</th>\n",
       "      <th>vennootschapsbelasting 2018</th>\n",
       "    </tr>\n",
       "  </thead>\n",
       "  <tbody>\n",
       "    <tr>\n",
       "      <th>3.0</th>\n",
       "      <td>99.690881</td>\n",
       "      <td>99.768161</td>\n",
       "    </tr>\n",
       "    <tr>\n",
       "      <th>3.2</th>\n",
       "      <td>98.299845</td>\n",
       "      <td>99.690881</td>\n",
       "    </tr>\n",
       "    <tr>\n",
       "      <th>3.4</th>\n",
       "      <td>94.976816</td>\n",
       "      <td>99.304482</td>\n",
       "    </tr>\n",
       "    <tr>\n",
       "      <th>3.6</th>\n",
       "      <td>91.421947</td>\n",
       "      <td>98.222566</td>\n",
       "    </tr>\n",
       "    <tr>\n",
       "      <th>3.8</th>\n",
       "      <td>84.930448</td>\n",
       "      <td>95.440495</td>\n",
       "    </tr>\n",
       "    <tr>\n",
       "      <th>4.0</th>\n",
       "      <td>80.525502</td>\n",
       "      <td>92.272025</td>\n",
       "    </tr>\n",
       "  </tbody>\n",
       "</table>\n",
       "</div>"
      ],
      "text/plain": [
       "     vermogensbelasting 2018  vennootschapsbelasting 2018\n",
       "3.0                99.690881                    99.768161\n",
       "3.2                98.299845                    99.690881\n",
       "3.4                94.976816                    99.304482\n",
       "3.6                91.421947                    98.222566\n",
       "3.8                84.930448                    95.440495\n",
       "4.0                80.525502                    92.272025"
      ]
     },
     "execution_count": 22,
     "metadata": {},
     "output_type": "execute_result"
    }
   ],
   "source": [
    "results_40y_1200k"
   ]
  },
  {
   "cell_type": "code",
   "execution_count": 21,
   "metadata": {},
   "outputs": [
    {
     "data": {
      "text/plain": [
       "Text(0.5, 1.02, 'Vermogen: €1.2M   Duur: 40 jaar')"
      ]
     },
     "execution_count": 21,
     "metadata": {},
     "output_type": "execute_result"
    },
    {
     "data": {
      "image/png": "[encoded data removed]",
      "text/plain": [
       "<Figure size 432x288 with 1 Axes>"
      ]
     },
     "metadata": {},
     "output_type": "display_data"
    }
   ],
   "source": [
    "results_40y_1200k.plot(grid=True)\n",
    "plt.suptitle(\"Success ratio per WR\", y=1.02, fontsize=14)\n",
    "plt.title(\"Vermogen: €1.2M   Duur: 40 jaar\", fontsize=12, y=1.02, color='grey')"
   ]
  },
  {
   "cell_type": "code",
   "execution_count": null,
   "metadata": {},
   "outputs": [],
   "source": []
  }
 ],
 "metadata": {
  "kernelspec": {
   "display_name": "Python 3",
   "language": "python",
   "name": "python3"
  },
  "language_info": {
   "codemirror_mode": {
    "name": "ipython",
    "version": 3
   },
   "file_extension": ".py",
   "mimetype": "text/x-python",
   "name": "python",
   "nbconvert_exporter": "python",
   "pygments_lexer": "ipython3",
   "version": "3.6.6"
  }
 },
 "nbformat": 4,
 "nbformat_minor": 2
}
