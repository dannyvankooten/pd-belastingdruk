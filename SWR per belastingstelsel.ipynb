{
 "cells": [
  {
   "cell_type": "code",
   "execution_count": 54,
   "metadata": {},
   "outputs": [],
   "source": [
    "import pandas as pd\n",
    "import numpy as np\n",
    "import matplotlib.pyplot as plt\n",
    "from matplotlib.ticker import FuncFormatter"
   ]
  },
  {
   "cell_type": "code",
   "execution_count": 2,
   "metadata": {},
   "outputs": [
    {
     "data": {
      "text/html": [
       "<div>\n",
       "<style scoped>\n",
       "    .dataframe tbody tr th:only-of-type {\n",
       "        vertical-align: middle;\n",
       "    }\n",
       "\n",
       "    .dataframe tbody tr th {\n",
       "        vertical-align: top;\n",
       "    }\n",
       "\n",
       "    .dataframe thead th {\n",
       "        text-align: right;\n",
       "    }\n",
       "</style>\n",
       "<table border=\"1\" class=\"dataframe\">\n",
       "  <thead>\n",
       "    <tr style=\"text-align: right;\">\n",
       "      <th></th>\n",
       "      <th>Open</th>\n",
       "      <th>High</th>\n",
       "      <th>Low</th>\n",
       "      <th>Close</th>\n",
       "      <th>Adj Close</th>\n",
       "      <th>Volume</th>\n",
       "    </tr>\n",
       "    <tr>\n",
       "      <th>Date</th>\n",
       "      <th></th>\n",
       "      <th></th>\n",
       "      <th></th>\n",
       "      <th></th>\n",
       "      <th></th>\n",
       "      <th></th>\n",
       "    </tr>\n",
       "  </thead>\n",
       "  <tbody>\n",
       "    <tr>\n",
       "      <th>2018-08-23</th>\n",
       "      <td>2860.290039</td>\n",
       "      <td>2868.780029</td>\n",
       "      <td>2854.030029</td>\n",
       "      <td>2856.979980</td>\n",
       "      <td>2856.979980</td>\n",
       "      <td>2713910000</td>\n",
       "    </tr>\n",
       "    <tr>\n",
       "      <th>2018-08-24</th>\n",
       "      <td>2862.350098</td>\n",
       "      <td>2876.159912</td>\n",
       "      <td>2862.350098</td>\n",
       "      <td>2874.689941</td>\n",
       "      <td>2874.689941</td>\n",
       "      <td>2596190000</td>\n",
       "    </tr>\n",
       "  </tbody>\n",
       "</table>\n",
       "</div>"
      ],
      "text/plain": [
       "                   Open         High          Low        Close    Adj Close  \\\n",
       "Date                                                                          \n",
       "2018-08-23  2860.290039  2868.780029  2854.030029  2856.979980  2856.979980   \n",
       "2018-08-24  2862.350098  2876.159912  2862.350098  2874.689941  2874.689941   \n",
       "\n",
       "                Volume  \n",
       "Date                    \n",
       "2018-08-23  2713910000  \n",
       "2018-08-24  2596190000  "
      ]
     },
     "execution_count": 2,
     "metadata": {},
     "output_type": "execute_result"
    }
   ],
   "source": [
    "sp500_raw = pd.read_csv('SP500.csv', index_col='Date', parse_dates=['Date'])\n",
    "sp500_raw.tail(2)"
   ]
  },
  {
   "cell_type": "code",
   "execution_count": 3,
   "metadata": {},
   "outputs": [
    {
     "data": {
      "text/html": [
       "<div>\n",
       "<style scoped>\n",
       "    .dataframe tbody tr th:only-of-type {\n",
       "        vertical-align: middle;\n",
       "    }\n",
       "\n",
       "    .dataframe tbody tr th {\n",
       "        vertical-align: top;\n",
       "    }\n",
       "\n",
       "    .dataframe thead th {\n",
       "        text-align: right;\n",
       "    }\n",
       "</style>\n",
       "<table border=\"1\" class=\"dataframe\">\n",
       "  <thead>\n",
       "    <tr style=\"text-align: right;\">\n",
       "      <th></th>\n",
       "      <th>Open</th>\n",
       "      <th>High</th>\n",
       "      <th>Low</th>\n",
       "      <th>Close</th>\n",
       "      <th>Adj Close</th>\n",
       "      <th>Volume</th>\n",
       "    </tr>\n",
       "    <tr>\n",
       "      <th>Date</th>\n",
       "      <th></th>\n",
       "      <th></th>\n",
       "      <th></th>\n",
       "      <th></th>\n",
       "      <th></th>\n",
       "      <th></th>\n",
       "    </tr>\n",
       "  </thead>\n",
       "  <tbody>\n",
       "    <tr>\n",
       "      <th>1950-01-31</th>\n",
       "      <td>17.049999</td>\n",
       "      <td>17.049999</td>\n",
       "      <td>17.049999</td>\n",
       "      <td>17.049999</td>\n",
       "      <td>17.049999</td>\n",
       "      <td>1690000</td>\n",
       "    </tr>\n",
       "    <tr>\n",
       "      <th>1950-02-28</th>\n",
       "      <td>17.219999</td>\n",
       "      <td>17.219999</td>\n",
       "      <td>17.219999</td>\n",
       "      <td>17.219999</td>\n",
       "      <td>17.219999</td>\n",
       "      <td>1310000</td>\n",
       "    </tr>\n",
       "  </tbody>\n",
       "</table>\n",
       "</div>"
      ],
      "text/plain": [
       "                 Open       High        Low      Close  Adj Close   Volume\n",
       "Date                                                                      \n",
       "1950-01-31  17.049999  17.049999  17.049999  17.049999  17.049999  1690000\n",
       "1950-02-28  17.219999  17.219999  17.219999  17.219999  17.219999  1310000"
      ]
     },
     "execution_count": 3,
     "metadata": {},
     "output_type": "execute_result"
    }
   ],
   "source": [
    "sp500 = sp500_raw.resample('BM').apply(lambda x: x[-1])\n",
    "sp500.head(2)"
   ]
  },
  {
   "cell_type": "code",
   "execution_count": 4,
   "metadata": {},
   "outputs": [
    {
     "data": {
      "text/html": [
       "<div>\n",
       "<style scoped>\n",
       "    .dataframe tbody tr th:only-of-type {\n",
       "        vertical-align: middle;\n",
       "    }\n",
       "\n",
       "    .dataframe tbody tr th {\n",
       "        vertical-align: top;\n",
       "    }\n",
       "\n",
       "    .dataframe thead th {\n",
       "        text-align: right;\n",
       "    }\n",
       "</style>\n",
       "<table border=\"1\" class=\"dataframe\">\n",
       "  <thead>\n",
       "    <tr style=\"text-align: right;\">\n",
       "      <th></th>\n",
       "      <th>Open</th>\n",
       "      <th>High</th>\n",
       "      <th>Low</th>\n",
       "      <th>Close</th>\n",
       "      <th>Adj Close</th>\n",
       "      <th>Volume</th>\n",
       "      <th>Pct Change</th>\n",
       "    </tr>\n",
       "    <tr>\n",
       "      <th>Date</th>\n",
       "      <th></th>\n",
       "      <th></th>\n",
       "      <th></th>\n",
       "      <th></th>\n",
       "      <th></th>\n",
       "      <th></th>\n",
       "      <th></th>\n",
       "    </tr>\n",
       "  </thead>\n",
       "  <tbody>\n",
       "    <tr>\n",
       "      <th>1950-01-31</th>\n",
       "      <td>17.049999</td>\n",
       "      <td>17.049999</td>\n",
       "      <td>17.049999</td>\n",
       "      <td>17.049999</td>\n",
       "      <td>17.049999</td>\n",
       "      <td>1690000</td>\n",
       "      <td>NaN</td>\n",
       "    </tr>\n",
       "    <tr>\n",
       "      <th>1950-02-28</th>\n",
       "      <td>17.219999</td>\n",
       "      <td>17.219999</td>\n",
       "      <td>17.219999</td>\n",
       "      <td>17.219999</td>\n",
       "      <td>17.219999</td>\n",
       "      <td>1310000</td>\n",
       "      <td>0.009971</td>\n",
       "    </tr>\n",
       "    <tr>\n",
       "      <th>1950-03-31</th>\n",
       "      <td>17.290001</td>\n",
       "      <td>17.290001</td>\n",
       "      <td>17.290001</td>\n",
       "      <td>17.290001</td>\n",
       "      <td>17.290001</td>\n",
       "      <td>1880000</td>\n",
       "      <td>0.004065</td>\n",
       "    </tr>\n",
       "  </tbody>\n",
       "</table>\n",
       "</div>"
      ],
      "text/plain": [
       "                 Open       High        Low      Close  Adj Close   Volume  \\\n",
       "Date                                                                         \n",
       "1950-01-31  17.049999  17.049999  17.049999  17.049999  17.049999  1690000   \n",
       "1950-02-28  17.219999  17.219999  17.219999  17.219999  17.219999  1310000   \n",
       "1950-03-31  17.290001  17.290001  17.290001  17.290001  17.290001  1880000   \n",
       "\n",
       "            Pct Change  \n",
       "Date                    \n",
       "1950-01-31         NaN  \n",
       "1950-02-28    0.009971  \n",
       "1950-03-31    0.004065  "
      ]
     },
     "execution_count": 4,
     "metadata": {},
     "output_type": "execute_result"
    }
   ],
   "source": [
    "sp500['Pct Change'] = sp500['Adj Close'].pct_change()\n",
    "sp500.head(3)"
   ]
  },
  {
   "cell_type": "code",
   "execution_count": 82,
   "metadata": {},
   "outputs": [
    {
     "data": {
      "text/plain": [
       "11706.756"
      ]
     },
     "execution_count": 82,
     "metadata": {},
     "output_type": "execute_result"
    }
   ],
   "source": [
    "def vermogensbelasting_2016(capital, gains=0):\n",
    "    return max(0, 0.012 * (capital-24437))\n",
    "\n",
    "vermogensbelasting_2016(1000000)"
   ]
  },
  {
   "cell_type": "code",
   "execution_count": 83,
   "metadata": {},
   "outputs": [
    {
     "data": {
      "text/plain": [
       "13065.975"
      ]
     },
     "execution_count": 83,
     "metadata": {},
     "output_type": "execute_result"
    }
   ],
   "source": [
    "def vermogensbelasting_2017(capital, gains=0):\n",
    "    taxable = capital - 25000\n",
    "    if taxable < 0:\n",
    "        return 0\n",
    "    \n",
    "    schijf_1 = min(75000, taxable)\n",
    "    schijf_2 = max(min(975000, taxable)-75000, 0)\n",
    "    schijf_3 = max(taxable - 975000, 0)\n",
    "    \n",
    "    return (0.02871 * schijf_1 + 0.04600 * schijf_2 + 0.0539 * schijf_3) * 0.30\n",
    "\n",
    "vermogensbelasting_2017(1000000)"
   ]
  },
  {
   "cell_type": "code",
   "execution_count": 84,
   "metadata": {},
   "outputs": [
    {
     "data": {
      "text/plain": [
       "423.57"
      ]
     },
     "execution_count": 84,
     "metadata": {},
     "output_type": "execute_result"
    }
   ],
   "source": [
    "def vermogensbelasting_2018(capital, gains=0):\n",
    "    taxable = capital - 30000\n",
    "    if taxable < 0:\n",
    "        return 0\n",
    "    \n",
    "    schijf_1 = min(70800, taxable)\n",
    "    schijf_2 = max(min(978000, taxable)-70800, 0)\n",
    "    schijf_3 = max(taxable - 978000, 0)\n",
    "    \n",
    "    return (0.02017 * schijf_1 + 0.04326 * schijf_2 + 0.0538 * schijf_3) * 0.30\n",
    "\n",
    "vermogensbelasting_2018(100000, 0)"
   ]
  },
  {
   "cell_type": "code",
   "execution_count": 6,
   "metadata": {},
   "outputs": [
    {
     "data": {
      "text/plain": [
       "40000.0"
      ]
     },
     "execution_count": 6,
     "metadata": {},
     "output_type": "execute_result"
    }
   ],
   "source": [
    "def vennootschapsbelasting(capital, gains):\n",
    "    schijf_1 = min(200000, gains)\n",
    "    schijf_2 = max(gains-200000, 0)\n",
    "    return max(0, 0.20 * schijf_1 + 0.25 * schijf_2)\n",
    "\n",
    "vennootschapsbelasting(0, 200000)"
   ]
  },
  {
   "cell_type": "code",
   "execution_count": 17,
   "metadata": {},
   "outputs": [
    {
     "data": {
      "text/html": [
       "<div>\n",
       "<style scoped>\n",
       "    .dataframe tbody tr th:only-of-type {\n",
       "        vertical-align: middle;\n",
       "    }\n",
       "\n",
       "    .dataframe tbody tr th {\n",
       "        vertical-align: top;\n",
       "    }\n",
       "\n",
       "    .dataframe thead th {\n",
       "        text-align: right;\n",
       "    }\n",
       "</style>\n",
       "<table border=\"1\" class=\"dataframe\">\n",
       "  <thead>\n",
       "    <tr style=\"text-align: right;\">\n",
       "      <th></th>\n",
       "      <th>end_value</th>\n",
       "    </tr>\n",
       "  </thead>\n",
       "  <tbody>\n",
       "    <tr>\n",
       "      <th>0</th>\n",
       "      <td>3.540353e+06</td>\n",
       "    </tr>\n",
       "    <tr>\n",
       "      <th>1</th>\n",
       "      <td>3.480167e+06</td>\n",
       "    </tr>\n",
       "  </tbody>\n",
       "</table>\n",
       "</div>"
      ],
      "text/plain": [
       "      end_value\n",
       "0  3.540353e+06\n",
       "1  3.480167e+06"
      ]
     },
     "execution_count": 17,
     "metadata": {},
     "output_type": "execute_result"
    }
   ],
   "source": [
    "def simulate(initial_capital, withdrawal_rate, duration_in_years=30, tax_fn=None):\n",
    "    inflation = 0.02 # TODO: Use actual inflation numbers\n",
    "    \n",
    "    stocks_return = sp500['Pct Change'] .dropna()\n",
    "    inflation_per_month = inflation / 12\n",
    "    months = duration_in_years * 12\n",
    "    run_index = np.arange(0, months)\n",
    "    initial_data = {'capital': 0.0, 'market_return': 0.0,'withdrawal': 0.0, 'taxes': 0.0}\n",
    "\n",
    "    samples = stocks_return.size-months-1\n",
    "    results = pd.DataFrame(index=np.arange(0, samples), data={'end_value': 0.0})\n",
    "\n",
    "    for p in results.index:\n",
    "        run = pd.DataFrame(index=run_index, data=initial_data)\n",
    "        run.index.name = 'month'\n",
    "\n",
    "        capital = initial_capital\n",
    "        withdrawal = withdrawal_rate / 12 * initial_capital \n",
    "\n",
    "        # loop over months\n",
    "        for m in run.index:\n",
    "            market_return = stocks_return.iloc[m+p]\n",
    "            gain = capital * market_return\n",
    "\n",
    "            # pay taxes every 12th month\n",
    "            taxes = 0\n",
    "            if m % 12 == 0 and tax_fn:\n",
    "                taxes = tax_fn(capital, gain)\n",
    "\n",
    "            run.at[m, 'capital'] = capital\n",
    "            run.at[m, 'market_return'] = market_return\n",
    "            run.at[m, 'withdrawal'] = withdrawal\n",
    "            run.at[m, 'taxes'] = taxes     \n",
    "\n",
    "             # withdraw inflation adjusted WR amount\n",
    "            capital -= withdrawal\n",
    "\n",
    "            # calculate inflation adjusted withdrawal amount\n",
    "            withdrawal = withdrawal * ( 1 + inflation_per_month )\n",
    "\n",
    "            # add capital gains\n",
    "            capital += gain\n",
    "\n",
    "            # pay taxes\n",
    "            capital -= taxes\n",
    "\n",
    "            # at the end of simulation, add to results dataframe\n",
    "            if m == months-1:\n",
    "                results.at[p, 'end_value'] = capital\n",
    "    \n",
    "    return results\n",
    "\n",
    "res = simulate(1000000, 0.04, 30)\n",
    "res.head(2)"
   ]
  },
  {
   "cell_type": "code",
   "execution_count": 14,
   "metadata": {},
   "outputs": [
    {
     "data": {
      "text/plain": [
       "<matplotlib.axes._subplots.AxesSubplot at 0x11f7326a0>"
      ]
     },
     "execution_count": 14,
     "metadata": {},
     "output_type": "execute_result"
    },
    {
     "data": {
      "image/png": "[encoded data removed]",
      "text/plain": [
       "<Figure size 432x288 with 1 Axes>"
      ]
     },
     "metadata": {},
     "output_type": "display_data"
    }
   ],
   "source": [
    "res.plot()"
   ]
  },
  {
   "cell_type": "code",
   "execution_count": 37,
   "metadata": {},
   "outputs": [
    {
     "name": "stdout",
     "output_type": "stream",
     "text": [
      "End value was higher than 0 in 98% of all simulations\n",
      "End value was higher than initial capital (adjusted for inflation) in 61% of all simulations\n"
     ]
    }
   ],
   "source": [
    "def success_rate(results, min_capital=0):\n",
    "    return results[results['end_value'] > min_capital].size / results.size\n",
    "\n",
    "\n",
    "print(\"End value was higher than 0 in {0:.0%} of all simulations\".format(success_rate(res, min_capital=0)))\n",
    "print(\"End value was higher than initial capital (adjusted for inflation) in {0:.0%} of all simulations\".format(success_rate(res, min_capital=1000000*pow(1.02, 30))))"
   ]
  },
  {
   "cell_type": "code",
   "execution_count": 40,
   "metadata": {},
   "outputs": [
    {
     "name": "stdout",
     "output_type": "stream",
     "text": [
      "Tax rules: Vermogensbelasting NL 2018\n",
      "Withdrawal rate was 4%\n",
      "Success rate: 77%\n",
      "Median end value is: $1093180.45\n",
      "Best end value is: $6021485.72\n",
      "Worst end value is: $-1365223.17\n"
     ]
    }
   ],
   "source": [
    "wr = 0.04\n",
    "vermogen = 1000000\n",
    "results = simulate(vermogen, wr, 30, vermogensbelasting_2018)\n",
    "\n",
    "print(\"Tax rules: Vermogensbelasting NL 2018\")\n",
    "print(\"Withdrawal rate was {0:.0%}\".format(wr))\n",
    "print(\"Success rate: {0:.0%}\".format(success_rate(results)))\n",
    "print(\"Median end value is: ${:.2f}\".format(results['end_value'].median()))\n",
    "print(\"Best end value is: ${:.2f}\".format(results['end_value'].max()))\n",
    "print(\"Worst end value is: ${:.2f}\".format(results['end_value'].min()))\n"
   ]
  },
  {
   "cell_type": "code",
   "execution_count": 43,
   "metadata": {},
   "outputs": [
    {
     "name": "stdout",
     "output_type": "stream",
     "text": [
      "Tax rules: Vennootschapsbelasting NL 2018\n",
      "Withdrawal rate was 3%\n",
      "Success rate: 100%\n",
      "Median end value is: $2795565.50\n",
      "Best end value is: $8940970.51\n",
      "Worst end value is: $469326.57\n"
     ]
    }
   ],
   "source": [
    "wr = 0.0333\n",
    "vermogen = 960000\n",
    "results = simulate(vermogen, wr, 30, vennootschapsbelasting)\n",
    "\n",
    "print(\"Tax rules: Vennootschapsbelasting NL 2018\")\n",
    "print(\"Withdrawal rate was {0:.0%}\".format(wr))\n",
    "print(\"Success rate: {0:.0%}\".format(success_rate(results)))\n",
    "print(\"Median end value is: ${:.2f}\".format(results['end_value'].median()))\n",
    "print(\"Best end value is: ${:.2f}\".format(results['end_value'].max()))\n",
    "print(\"Worst end value is: ${:.2f}\".format(results['end_value'].min()))\n"
   ]
  },
  {
   "cell_type": "code",
   "execution_count": 85,
   "metadata": {},
   "outputs": [
    {
     "data": {
      "text/html": [
       "<div>\n",
       "<style scoped>\n",
       "    .dataframe tbody tr th:only-of-type {\n",
       "        vertical-align: middle;\n",
       "    }\n",
       "\n",
       "    .dataframe tbody tr th {\n",
       "        vertical-align: top;\n",
       "    }\n",
       "\n",
       "    .dataframe thead th {\n",
       "        text-align: right;\n",
       "    }\n",
       "</style>\n",
       "<table border=\"1\" class=\"dataframe\">\n",
       "  <thead>\n",
       "    <tr style=\"text-align: right;\">\n",
       "      <th></th>\n",
       "      <th>belastinvrij</th>\n",
       "      <th>vermogensbelasting 2018</th>\n",
       "      <th>vennootschapsbelasting 2018</th>\n",
       "      <th>belastingvrij</th>\n",
       "      <th>vermogensbelasting 2017</th>\n",
       "      <th>vermogensbelasting 2016</th>\n",
       "    </tr>\n",
       "  </thead>\n",
       "  <tbody>\n",
       "    <tr>\n",
       "      <th>3.0</th>\n",
       "      <td>0.0</td>\n",
       "      <td>100.000000</td>\n",
       "      <td>100.000000</td>\n",
       "      <td>100.000000</td>\n",
       "      <td>100.000000</td>\n",
       "      <td>100.000000</td>\n",
       "    </tr>\n",
       "    <tr>\n",
       "      <th>3.2</th>\n",
       "      <td>0.0</td>\n",
       "      <td>100.000000</td>\n",
       "      <td>100.000000</td>\n",
       "      <td>100.000000</td>\n",
       "      <td>100.000000</td>\n",
       "      <td>100.000000</td>\n",
       "    </tr>\n",
       "    <tr>\n",
       "      <th>3.4</th>\n",
       "      <td>0.0</td>\n",
       "      <td>98.701299</td>\n",
       "      <td>100.000000</td>\n",
       "      <td>100.000000</td>\n",
       "      <td>97.619048</td>\n",
       "      <td>98.701299</td>\n",
       "    </tr>\n",
       "    <tr>\n",
       "      <th>3.6</th>\n",
       "      <td>0.0</td>\n",
       "      <td>92.857143</td>\n",
       "      <td>100.000000</td>\n",
       "      <td>100.000000</td>\n",
       "      <td>89.610390</td>\n",
       "      <td>92.857143</td>\n",
       "    </tr>\n",
       "    <tr>\n",
       "      <th>3.8</th>\n",
       "      <td>0.0</td>\n",
       "      <td>82.900433</td>\n",
       "      <td>98.268398</td>\n",
       "      <td>100.000000</td>\n",
       "      <td>80.086580</td>\n",
       "      <td>82.900433</td>\n",
       "    </tr>\n",
       "    <tr>\n",
       "      <th>4.0</th>\n",
       "      <td>0.0</td>\n",
       "      <td>77.056277</td>\n",
       "      <td>92.857143</td>\n",
       "      <td>97.619048</td>\n",
       "      <td>74.458874</td>\n",
       "      <td>77.056277</td>\n",
       "    </tr>\n",
       "    <tr>\n",
       "      <th>4.2</th>\n",
       "      <td>0.0</td>\n",
       "      <td>67.965368</td>\n",
       "      <td>85.930736</td>\n",
       "      <td>91.774892</td>\n",
       "      <td>66.450216</td>\n",
       "      <td>68.831169</td>\n",
       "    </tr>\n",
       "    <tr>\n",
       "      <th>4.4</th>\n",
       "      <td>0.0</td>\n",
       "      <td>61.688312</td>\n",
       "      <td>78.787879</td>\n",
       "      <td>84.632035</td>\n",
       "      <td>60.606061</td>\n",
       "      <td>62.121212</td>\n",
       "    </tr>\n",
       "  </tbody>\n",
       "</table>\n",
       "</div>"
      ],
      "text/plain": [
       "     belastinvrij  vermogensbelasting 2018  vennootschapsbelasting 2018  \\\n",
       "3.0           0.0               100.000000                   100.000000   \n",
       "3.2           0.0               100.000000                   100.000000   \n",
       "3.4           0.0                98.701299                   100.000000   \n",
       "3.6           0.0                92.857143                   100.000000   \n",
       "3.8           0.0                82.900433                    98.268398   \n",
       "4.0           0.0                77.056277                    92.857143   \n",
       "4.2           0.0                67.965368                    85.930736   \n",
       "4.4           0.0                61.688312                    78.787879   \n",
       "\n",
       "     belastingvrij  vermogensbelasting 2017  vermogensbelasting 2016  \n",
       "3.0     100.000000               100.000000               100.000000  \n",
       "3.2     100.000000               100.000000               100.000000  \n",
       "3.4     100.000000                97.619048                98.701299  \n",
       "3.6     100.000000                89.610390                92.857143  \n",
       "3.8     100.000000                80.086580                82.900433  \n",
       "4.0      97.619048                74.458874                77.056277  \n",
       "4.2      91.774892                66.450216                68.831169  \n",
       "4.4      84.632035                60.606061                62.121212  "
      ]
     },
     "execution_count": 85,
     "metadata": {},
     "output_type": "execute_result"
    }
   ],
   "source": [
    "capital = 1000000 # initial capital\n",
    "duration = 30 # years\n",
    "\n",
    "sr_overview = pd.DataFrame(index=[3, 3.2, 3.4, 3.6, 3.8, 4, 4.2, 4.4], data={'belastingvrij': 0.0, 'vermogensbelasting 2018': 0.0, 'vennootschapsbelasting 2018': 0.0})\n",
    "for wr in sr_overview.index:\n",
    "    results = simulate(capital, wr/100, duration)\n",
    "    sr_overview.at[wr, 'belastingvrij'] = success_rate(results) * 100\n",
    "    \n",
    "    results = simulate(capital, wr/100, duration, vermogensbelasting_2018)\n",
    "    sr_overview.at[wr, 'vermogensbelasting 2018'] = success_rate(results) * 100\n",
    "    \n",
    "    results = simulate(capital, wr/100, duration, vennootschapsbelasting)\n",
    "    sr_overview.at[wr, 'vennootschapsbelasting 2018'] = success_rate(results) * 100\n",
    "    \n",
    "    results = simulate(capital, wr/100, duration, vermogensbelasting_2017)\n",
    "    sr_overview.at[wr, 'vermogensbelasting 2017'] = success_rate(results) * 100\n",
    "    \n",
    "    results = simulate(capital, wr/100, duration, vermogensbelasting_2016)\n",
    "    sr_overview.at[wr, 'vermogensbelasting 2016'] = success_rate(results) * 100\n",
    "    \n",
    "sr_overview"
   ]
  },
  {
   "cell_type": "code",
   "execution_count": 88,
   "metadata": {},
   "outputs": [
    {
     "data": {
      "text/plain": [
       "Text(0.5, 1.02, 'Vermogen = 1M   Duur = 30 jaar')"
      ]
     },
     "execution_count": 88,
     "metadata": {},
     "output_type": "execute_result"
    },
    {
     "data": {
      "image/png": "[encoded data removed]",
      "text/plain": [
       "<Figure size 432x288 with 1 Axes>"
      ]
     },
     "metadata": {},
     "output_type": "display_data"
    }
   ],
   "source": [
    "sr_overview[['belastingvrij', 'vermogensbelasting 2018', 'vennootschapsbelasting 2018']].plot(grid=True)\n",
    "plt.suptitle(\"Success ratio per WR\", y=1.02, fontsize=14)\n",
    "plt.title(\"Vermogen = 1M   Duur = 30 jaar\", fontsize=12, y=1.02, color='grey')"
   ]
  },
  {
   "cell_type": "code",
   "execution_count": 87,
   "metadata": {},
   "outputs": [
    {
     "data": {
      "text/plain": [
       "Text(0.5, 1.02, 'Vermogen = 1M   Duur = 30 jaar')"
      ]
     },
     "execution_count": 87,
     "metadata": {},
     "output_type": "execute_result"
    },
    {
     "data": {
      "image/png": "[encoded data removed]",
      "text/plain": [
       "<Figure size 432x288 with 1 Axes>"
      ]
     },
     "metadata": {},
     "output_type": "display_data"
    }
   ],
   "source": [
    "sr_overview[['vermogensbelasting 2018', 'vermogensbelasting 2016', 'belastingvrij', 'vennootschapsbelasting 2018']].plot(grid=True)\n",
    "plt.suptitle(\"Success ratio per WR\", y=1.02, fontsize=14)\n",
    "plt.title(\"Vermogen = 1M   Duur = 30 jaar\", fontsize=12, y=1.02, color='grey')"
   ]
  },
  {
   "cell_type": "code",
   "execution_count": 89,
   "metadata": {},
   "outputs": [
    {
     "data": {
      "text/html": [
       "<div>\n",
       "<style scoped>\n",
       "    .dataframe tbody tr th:only-of-type {\n",
       "        vertical-align: middle;\n",
       "    }\n",
       "\n",
       "    .dataframe tbody tr th {\n",
       "        vertical-align: top;\n",
       "    }\n",
       "\n",
       "    .dataframe thead th {\n",
       "        text-align: right;\n",
       "    }\n",
       "</style>\n",
       "<table border=\"1\" class=\"dataframe\">\n",
       "  <thead>\n",
       "    <tr style=\"text-align: right;\">\n",
       "      <th></th>\n",
       "      <th>belastinvrij</th>\n",
       "      <th>vermogensbelasting 2018</th>\n",
       "      <th>vennootschapsbelasting 2018</th>\n",
       "      <th>belastingvrij</th>\n",
       "      <th>vermogensbelasting 2017</th>\n",
       "      <th>vermogensbelasting 2016</th>\n",
       "    </tr>\n",
       "  </thead>\n",
       "  <tbody>\n",
       "    <tr>\n",
       "      <th>3.0</th>\n",
       "      <td>0.0</td>\n",
       "      <td>100.000000</td>\n",
       "      <td>100.000000</td>\n",
       "      <td>100.000000</td>\n",
       "      <td>100.000000</td>\n",
       "      <td>100.000000</td>\n",
       "    </tr>\n",
       "    <tr>\n",
       "      <th>3.2</th>\n",
       "      <td>0.0</td>\n",
       "      <td>100.000000</td>\n",
       "      <td>100.000000</td>\n",
       "      <td>100.000000</td>\n",
       "      <td>100.000000</td>\n",
       "      <td>100.000000</td>\n",
       "    </tr>\n",
       "    <tr>\n",
       "      <th>3.4</th>\n",
       "      <td>0.0</td>\n",
       "      <td>98.701299</td>\n",
       "      <td>100.000000</td>\n",
       "      <td>100.000000</td>\n",
       "      <td>97.619048</td>\n",
       "      <td>98.701299</td>\n",
       "    </tr>\n",
       "    <tr>\n",
       "      <th>3.6</th>\n",
       "      <td>0.0</td>\n",
       "      <td>92.857143</td>\n",
       "      <td>100.000000</td>\n",
       "      <td>100.000000</td>\n",
       "      <td>89.610390</td>\n",
       "      <td>92.857143</td>\n",
       "    </tr>\n",
       "    <tr>\n",
       "      <th>3.8</th>\n",
       "      <td>0.0</td>\n",
       "      <td>82.900433</td>\n",
       "      <td>98.268398</td>\n",
       "      <td>100.000000</td>\n",
       "      <td>80.086580</td>\n",
       "      <td>82.900433</td>\n",
       "    </tr>\n",
       "    <tr>\n",
       "      <th>4.0</th>\n",
       "      <td>0.0</td>\n",
       "      <td>77.056277</td>\n",
       "      <td>92.857143</td>\n",
       "      <td>97.619048</td>\n",
       "      <td>74.458874</td>\n",
       "      <td>77.056277</td>\n",
       "    </tr>\n",
       "    <tr>\n",
       "      <th>4.2</th>\n",
       "      <td>0.0</td>\n",
       "      <td>67.965368</td>\n",
       "      <td>85.930736</td>\n",
       "      <td>91.774892</td>\n",
       "      <td>66.450216</td>\n",
       "      <td>68.831169</td>\n",
       "    </tr>\n",
       "    <tr>\n",
       "      <th>4.4</th>\n",
       "      <td>0.0</td>\n",
       "      <td>61.688312</td>\n",
       "      <td>78.787879</td>\n",
       "      <td>84.632035</td>\n",
       "      <td>60.606061</td>\n",
       "      <td>62.121212</td>\n",
       "    </tr>\n",
       "  </tbody>\n",
       "</table>\n",
       "</div>"
      ],
      "text/plain": [
       "     belastinvrij  vermogensbelasting 2018  vennootschapsbelasting 2018  \\\n",
       "3.0           0.0               100.000000                   100.000000   \n",
       "3.2           0.0               100.000000                   100.000000   \n",
       "3.4           0.0                98.701299                   100.000000   \n",
       "3.6           0.0                92.857143                   100.000000   \n",
       "3.8           0.0                82.900433                    98.268398   \n",
       "4.0           0.0                77.056277                    92.857143   \n",
       "4.2           0.0                67.965368                    85.930736   \n",
       "4.4           0.0                61.688312                    78.787879   \n",
       "\n",
       "     belastingvrij  vermogensbelasting 2017  vermogensbelasting 2016  \n",
       "3.0     100.000000               100.000000               100.000000  \n",
       "3.2     100.000000               100.000000               100.000000  \n",
       "3.4     100.000000                97.619048                98.701299  \n",
       "3.6     100.000000                89.610390                92.857143  \n",
       "3.8     100.000000                80.086580                82.900433  \n",
       "4.0      97.619048                74.458874                77.056277  \n",
       "4.2      91.774892                66.450216                68.831169  \n",
       "4.4      84.632035                60.606061                62.121212  "
      ]
     },
     "execution_count": 89,
     "metadata": {},
     "output_type": "execute_result"
    }
   ],
   "source": [
    "sr_overview"
   ]
  },
  {
   "cell_type": "code",
   "execution_count": null,
   "metadata": {},
   "outputs": [],
   "source": []
  }
 ],
 "metadata": {
  "kernelspec": {
   "display_name": "Python 3",
   "language": "python",
   "name": "python3"
  },
  "language_info": {
   "codemirror_mode": {
    "name": "ipython",
    "version": 3
   },
   "file_extension": ".py",
   "mimetype": "text/x-python",
   "name": "python",
   "nbconvert_exporter": "python",
   "pygments_lexer": "ipython3",
   "version": "3.6.6"
  }
 },
 "nbformat": 4,
 "nbformat_minor": 2
}
