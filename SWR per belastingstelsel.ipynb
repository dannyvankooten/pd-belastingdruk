{
 "cells": [
  {
   "cell_type": "code",
   "execution_count": 1,
   "metadata": {},
   "outputs": [],
   "source": [
    "import pandas as pd\n",
    "import numpy as np\n",
    "import matplotlib.pyplot as plt\n",
    "from matplotlib.ticker import FuncFormatter\n",
    "\n",
    "datasets = {}"
   ]
  },
  {
   "cell_type": "code",
   "execution_count": 2,
   "metadata": {},
   "outputs": [
    {
     "name": "stdout",
     "output_type": "stream",
     "text": [
      "Data size for Yahoo's S&P 500 data is 827\n"
     ]
    },
    {
     "data": {
      "text/html": [
       "<div>\n",
       "<style scoped>\n",
       "    .dataframe tbody tr th:only-of-type {\n",
       "        vertical-align: middle;\n",
       "    }\n",
       "\n",
       "    .dataframe tbody tr th {\n",
       "        vertical-align: top;\n",
       "    }\n",
       "\n",
       "    .dataframe thead th {\n",
       "        text-align: right;\n",
       "    }\n",
       "</style>\n",
       "<table border=\"1\" class=\"dataframe\">\n",
       "  <thead>\n",
       "    <tr style=\"text-align: right;\">\n",
       "      <th></th>\n",
       "      <th>Date</th>\n",
       "      <th>Yield</th>\n",
       "      <th>Inflation</th>\n",
       "    </tr>\n",
       "  </thead>\n",
       "  <tbody>\n",
       "    <tr>\n",
       "      <th>823</th>\n",
       "      <td>2018-08-01</td>\n",
       "      <td>0.030263</td>\n",
       "      <td>0.001667</td>\n",
       "    </tr>\n",
       "    <tr>\n",
       "      <th>824</th>\n",
       "      <td>2018-09-01</td>\n",
       "      <td>0.004294</td>\n",
       "      <td>0.001667</td>\n",
       "    </tr>\n",
       "    <tr>\n",
       "      <th>825</th>\n",
       "      <td>2018-10-01</td>\n",
       "      <td>-0.071521</td>\n",
       "      <td>0.001667</td>\n",
       "    </tr>\n",
       "    <tr>\n",
       "      <th>826</th>\n",
       "      <td>2018-10-25</td>\n",
       "      <td>0.000000</td>\n",
       "      <td>0.001667</td>\n",
       "    </tr>\n",
       "  </tbody>\n",
       "</table>\n",
       "</div>"
      ],
      "text/plain": [
       "           Date     Yield  Inflation\n",
       "823  2018-08-01  0.030263   0.001667\n",
       "824  2018-09-01  0.004294   0.001667\n",
       "825  2018-10-01 -0.071521   0.001667\n",
       "826  2018-10-25  0.000000   0.001667"
      ]
     },
     "execution_count": 2,
     "metadata": {},
     "output_type": "execute_result"
    }
   ],
   "source": [
    "# Parse data from Yahoo (1950 - now)\n",
    "# https://finance.yahoo.com/quote/%5EGSPC/history?p=%5EGSPC\n",
    "data = pd.read_csv('SP500-Yahoo.csv')\n",
    "#data = data.resample('BM').apply(lambda x: x[-1])\n",
    "data['Yield'] = data['Adj Close'].pct_change().fillna(0.0)\n",
    "data = data[['Date', 'Yield']]\n",
    "data['Inflation'] = 0.02 / 12 # Fixed inflation at 2%, we can do better if we use Shiller's data here\n",
    "datasets['Yahoo'] = data\n",
    "print(\"Data size for Yahoo's S&P 500 data is %d\" % len(data.index))\n",
    "data.tail(4)"
   ]
  },
  {
   "cell_type": "code",
   "execution_count": 3,
   "metadata": {},
   "outputs": [
    {
     "name": "stdout",
     "output_type": "stream",
     "text": [
      "Data size for Shiller's S&P 500 data is 1774\n"
     ]
    },
    {
     "data": {
      "text/html": [
       "<div>\n",
       "<style scoped>\n",
       "    .dataframe tbody tr th:only-of-type {\n",
       "        vertical-align: middle;\n",
       "    }\n",
       "\n",
       "    .dataframe tbody tr th {\n",
       "        vertical-align: top;\n",
       "    }\n",
       "\n",
       "    .dataframe thead th {\n",
       "        text-align: right;\n",
       "    }\n",
       "</style>\n",
       "<table border=\"1\" class=\"dataframe\">\n",
       "  <thead>\n",
       "    <tr style=\"text-align: right;\">\n",
       "      <th></th>\n",
       "      <th>Date</th>\n",
       "      <th>Yield</th>\n",
       "      <th>Inflation</th>\n",
       "    </tr>\n",
       "  </thead>\n",
       "  <tbody>\n",
       "    <tr>\n",
       "      <th>1759</th>\n",
       "      <td>2017.08</td>\n",
       "      <td>0.002487</td>\n",
       "      <td>0.002994</td>\n",
       "    </tr>\n",
       "    <tr>\n",
       "      <th>1760</th>\n",
       "      <td>2017.09</td>\n",
       "      <td>0.016519</td>\n",
       "      <td>0.005295</td>\n",
       "    </tr>\n",
       "    <tr>\n",
       "      <th>1761</th>\n",
       "      <td>2017.10</td>\n",
       "      <td>0.027316</td>\n",
       "      <td>-0.000632</td>\n",
       "    </tr>\n",
       "    <tr>\n",
       "      <th>1762</th>\n",
       "      <td>2017.11</td>\n",
       "      <td>0.015882</td>\n",
       "      <td>0.000024</td>\n",
       "    </tr>\n",
       "    <tr>\n",
       "      <th>1763</th>\n",
       "      <td>2017.12</td>\n",
       "      <td>0.028801</td>\n",
       "      <td>-0.000588</td>\n",
       "    </tr>\n",
       "    <tr>\n",
       "      <th>1764</th>\n",
       "      <td>2018.01</td>\n",
       "      <td>0.048561</td>\n",
       "      <td>0.005448</td>\n",
       "    </tr>\n",
       "    <tr>\n",
       "      <th>1765</th>\n",
       "      <td>2018.02</td>\n",
       "      <td>-0.028810</td>\n",
       "      <td>0.004535</td>\n",
       "    </tr>\n",
       "    <tr>\n",
       "      <th>1766</th>\n",
       "      <td>2018.03</td>\n",
       "      <td>0.000658</td>\n",
       "      <td>0.002261</td>\n",
       "    </tr>\n",
       "    <tr>\n",
       "      <th>1767</th>\n",
       "      <td>2018.04</td>\n",
       "      <td>-0.016601</td>\n",
       "      <td>0.003975</td>\n",
       "    </tr>\n",
       "    <tr>\n",
       "      <th>1768</th>\n",
       "      <td>2018.05</td>\n",
       "      <td>0.019598</td>\n",
       "      <td>0.004159</td>\n",
       "    </tr>\n",
       "    <tr>\n",
       "      <th>1769</th>\n",
       "      <td>2018.06</td>\n",
       "      <td>0.021110</td>\n",
       "      <td>0.001594</td>\n",
       "    </tr>\n",
       "    <tr>\n",
       "      <th>1770</th>\n",
       "      <td>2018.07</td>\n",
       "      <td>0.015799</td>\n",
       "      <td>0.000067</td>\n",
       "    </tr>\n",
       "    <tr>\n",
       "      <th>1771</th>\n",
       "      <td>2018.08</td>\n",
       "      <td>0.024487</td>\n",
       "      <td>0.000556</td>\n",
       "    </tr>\n",
       "    <tr>\n",
       "      <th>1772</th>\n",
       "      <td>2018.09</td>\n",
       "      <td>0.016788</td>\n",
       "      <td>0.000278</td>\n",
       "    </tr>\n",
       "    <tr>\n",
       "      <th>1773</th>\n",
       "      <td>2018.10</td>\n",
       "      <td>-0.039918</td>\n",
       "      <td>0.000139</td>\n",
       "    </tr>\n",
       "  </tbody>\n",
       "</table>\n",
       "</div>"
      ],
      "text/plain": [
       "         Date     Yield  Inflation\n",
       "1759  2017.08  0.002487   0.002994\n",
       "1760  2017.09  0.016519   0.005295\n",
       "1761  2017.10  0.027316  -0.000632\n",
       "1762  2017.11  0.015882   0.000024\n",
       "1763  2017.12  0.028801  -0.000588\n",
       "1764  2018.01  0.048561   0.005448\n",
       "1765  2018.02 -0.028810   0.004535\n",
       "1766  2018.03  0.000658   0.002261\n",
       "1767  2018.04 -0.016601   0.003975\n",
       "1768  2018.05  0.019598   0.004159\n",
       "1769  2018.06  0.021110   0.001594\n",
       "1770  2018.07  0.015799   0.000067\n",
       "1771  2018.08  0.024487   0.000556\n",
       "1772  2018.09  0.016788   0.000278\n",
       "1773  2018.10 -0.039918   0.000139"
      ]
     },
     "execution_count": 3,
     "metadata": {},
     "output_type": "execute_result"
    }
   ],
   "source": [
    "# Parse data from Shiller (1870 - now)\n",
    "# http://www.econ.yale.edu/~shiller/data.htm\n",
    "data = pd.read_csv(\"SP500-Shiller.csv\", delimiter='\\t')\n",
    "data['Stock yield'] = data['P'].pct_change().fillna(0.0)\n",
    "data['Div yield'] = (data['D'] / data['P']).fillna(0.0) / 12 # Shiller uses div yield of trailing 12 months\n",
    "data['Inflation'] = data['CPI'].pct_change().fillna(0.0)\n",
    "data['Yield'] =  data['Stock yield'] + data['Div yield']\n",
    "data = data[['Date','Yield', 'Inflation']]\n",
    "\n",
    "datasets['Shiller'] = data\n",
    "print(\"Data size for Shiller's S&P 500 data is %d\" % len(data.index))\n",
    "data.tail(15)"
   ]
  },
  {
   "cell_type": "code",
   "execution_count": null,
   "metadata": {},
   "outputs": [],
   "source": []
  },
  {
   "cell_type": "code",
   "execution_count": 4,
   "metadata": {},
   "outputs": [
    {
     "data": {
      "text/plain": [
       "11414"
      ]
     },
     "execution_count": 4,
     "metadata": {},
     "output_type": "execute_result"
    }
   ],
   "source": [
    "def vermogensbelasting_2016(capital, gains=0):\n",
    "    return max(0, round(0.012 * (capital-(2*24437)))) # met partner\n",
    "\n",
    "assert vermogensbelasting_2016(0) == 0\n",
    "assert vermogensbelasting_2016(150000) == 1214 # Belastingdienst.nl voorbeeld\n",
    "\n",
    "vermogensbelasting_2016(1000000)"
   ]
  },
  {
   "cell_type": "code",
   "execution_count": 5,
   "metadata": {},
   "outputs": [],
   "source": [
    "# https://www.belastingdienst.nl/wps/wcm/connect/bldcontentnl/belastingdienst/prive/vermogen_en_aanmerkelijk_belang/vermogen/belasting_betalen_over_uw_vermogen/grondslag_sparen_en_beleggen/berekenen_belasting_over_uw_inkomsten_uit_vermogen_vanaf_2017/\n",
    "def vermogensbelasting_2017(capital, gains=0):\n",
    "    taxable = capital - 25000\n",
    "    if taxable <= 0:\n",
    "        return 0\n",
    "    \n",
    "    schijf_1 = min(75000, taxable)\n",
    "    schijf_2 = max(min(975000, taxable)-75000, 0)\n",
    "    schijf_3 = max(taxable - 975000, 0)\n",
    "    \n",
    "    return round((0.02871 * schijf_1 + 0.04600 * schijf_2 + 0.0539 * schijf_3) * 0.30)\n",
    "\n",
    "assert vermogensbelasting_2017(0) == 0\n",
    "assert vermogensbelasting_2017(125000) == 991\n",
    "assert vermogensbelasting_2017(1250000) == 17108"
   ]
  },
  {
   "cell_type": "code",
   "execution_count": 6,
   "metadata": {},
   "outputs": [],
   "source": [
    "# https://www.belastingdienst.nl/wps/wcm/connect/bldcontentnl/belastingdienst/prive/vermogen_en_aanmerkelijk_belang/vermogen/belasting_betalen_over_uw_vermogen/grondslag_sparen_en_beleggen/berekening-2018/\n",
    "def vermogensbelasting_2018(capital, gains=0):\n",
    "    taxable = capital - 30000\n",
    "    if taxable < 0:\n",
    "        return 0\n",
    "    \n",
    "    schijf_1 = min(70800, taxable)\n",
    "    schijf_2 = max(min(978000, taxable)-70800, 0)\n",
    "    schijf_3 = max(taxable - 978000, 0)\n",
    "    \n",
    "    return round((0.02017 * schijf_1 + 0.04326 * schijf_2 + 0.0538 * schijf_3) * 0.30)\n",
    "\n",
    "assert vermogensbelasting_2018(0) == 0\n",
    "assert vermogensbelasting_2018(130000) == 807\n",
    "assert vermogensbelasting_2018(1255000) == 16189"
   ]
  },
  {
   "cell_type": "code",
   "execution_count": 7,
   "metadata": {},
   "outputs": [],
   "source": [
    "def vennootschapsbelasting(capital, gains):\n",
    "    schijf_1 = min(200000, gains)\n",
    "    schijf_2 = max(gains-200000, 0)\n",
    "    return round(max(0, 0.20 * schijf_1 + 0.25 * schijf_2))\n",
    "\n",
    "assert vennootschapsbelasting(0, 200000) == 40000"
   ]
  },
  {
   "cell_type": "code",
   "execution_count": 73,
   "metadata": {},
   "outputs": [],
   "source": [
    "dataset = datasets['Shiller']\n",
    "\n",
    "def simulate_run(p, capital_start, withdrawal_start, months, tax_fn=None):\n",
    "    sample = dataset.iloc[p:p+months]\n",
    "    inflation = (1 + sample['Inflation']).cumprod()\n",
    "    withdrawals = withdrawal_start * inflation\n",
    "    \n",
    "    capital = capital_start\n",
    "    for i in sample.index:\n",
    "        gain = capital * sample.at[i, 'Yield']\n",
    "        taxes = 0\n",
    "        if tax_fn and i % 12 == 0:\n",
    "            taxes = tax_fn(capital, gain)\n",
    "            \n",
    "        capital = capital + gain - taxes - withdrawals[i]\n",
    "    \n",
    "    return capital # end value\n",
    "        \n",
    "def simulate(initial_capital, withdrawal_rate, duration_in_years=30, tax_fn=None):\n",
    "    months = duration_in_years * 12\n",
    "    initial_withdrawal = withdrawal_rate / 12 * initial_capital \n",
    "    index = np.arange(0, len(dataset) - months)    \n",
    "    results = pd.Series((simulate_run(p, initial_capital, initial_withdrawal, months, tax_fn) for p in index), index=index, name='end_value')        \n",
    "    print(\"End value was higher than 0 in {0:.0%} of all simulations\".format(success_rate(results, min_capital=0)))\n",
    "    print(\"End value was higher than initial capital (adjusted for inflation) in {0:.0%} of all simulations\".format(success_rate(results, min_capital=1000000*pow(1.02, 30))))        \n",
    "    return results\n",
    "\n",
    "def success_rate(results, min_capital=0):\n",
    "    return len(results[results > min_capital]) / len(results)"
   ]
  },
  {
   "cell_type": "code",
   "execution_count": 76,
   "metadata": {},
   "outputs": [
    {
     "name": "stdout",
     "output_type": "stream",
     "text": [
      "End value was higher than 0 in 98% of all simulations\n",
      "End value was higher than initial capital (adjusted for inflation) in 87% of all simulations\n",
      "7.72 s ± 0 ns per loop (mean ± std. dev. of 1 run, 1 loop each)\n"
     ]
    }
   ],
   "source": [
    "# Tax-free simulation with a 4% withdrawal rate over 30 years. \n",
    "# Should yield a success rate of about 98% (to match the Trinity study results)\n",
    "%timeit -n1 -r1 res = simulate(1000000, 0.04, 30)"
   ]
  },
  {
   "cell_type": "code",
   "execution_count": 77,
   "metadata": {},
   "outputs": [
    {
     "name": "stdout",
     "output_type": "stream",
     "text": [
      "End value was higher than 0 in 100% of all simulations\n",
      "End value was higher than initial capital (adjusted for inflation) in 88% of all simulations\n",
      "End value was higher than 0 in 100% of all simulations\n",
      "End value was higher than initial capital (adjusted for inflation) in 98% of all simulations\n",
      "End value was higher than 0 in 100% of all simulations\n",
      "End value was higher than initial capital (adjusted for inflation) in 82% of all simulations\n",
      "End value was higher than 0 in 100% of all simulations\n",
      "End value was higher than initial capital (adjusted for inflation) in 96% of all simulations\n",
      "End value was higher than 0 in 99% of all simulations\n",
      "End value was higher than initial capital (adjusted for inflation) in 77% of all simulations\n",
      "End value was higher than 0 in 100% of all simulations\n",
      "End value was higher than initial capital (adjusted for inflation) in 94% of all simulations\n",
      "End value was higher than 0 in 96% of all simulations\n",
      "End value was higher than initial capital (adjusted for inflation) in 71% of all simulations\n",
      "End value was higher than 0 in 99% of all simulations\n",
      "End value was higher than initial capital (adjusted for inflation) in 90% of all simulations\n",
      "End value was higher than 0 in 95% of all simulations\n",
      "End value was higher than initial capital (adjusted for inflation) in 66% of all simulations\n",
      "End value was higher than 0 in 98% of all simulations\n",
      "End value was higher than initial capital (adjusted for inflation) in 87% of all simulations\n",
      "End value was higher than 0 in 92% of all simulations\n",
      "End value was higher than initial capital (adjusted for inflation) in 62% of all simulations\n",
      "End value was higher than 0 in 95% of all simulations\n",
      "End value was higher than initial capital (adjusted for inflation) in 84% of all simulations\n",
      "End value was higher than 0 in 87% of all simulations\n",
      "End value was higher than initial capital (adjusted for inflation) in 58% of all simulations\n",
      "End value was higher than 0 in 94% of all simulations\n",
      "End value was higher than initial capital (adjusted for inflation) in 81% of all simulations\n"
     ]
    }
   ],
   "source": [
    "capital = 1200000 # initial capital\n",
    "duration = 30 # years\n",
    "withdrawal_rates = [3, 3.2, 3.4, 3.6, 3.8, 4, 4.2]\n",
    "\n",
    "results = pd.DataFrame(index=withdrawal_rates, data={('success rate', 'vermogensbelasting 2018'): 0, ('success rate', 'vennootschapsbelasting 2018'): 0})\n",
    "results.index.name = 'withdrawal rate'\n",
    "\n",
    "for wr in results.index:    \n",
    "    run = simulate(capital*0.75, wr/100, duration, vermogensbelasting_2018)\n",
    "    results.loc[wr, ('success rate', 'vermogensbelasting 2018')] = success_rate(run) * 100\n",
    "    \n",
    "    run = simulate(capital, wr/100, duration, vennootschapsbelasting)\n",
    "    results.loc[wr, ('success rate', 'vennootschapsbelasting 2018')] = success_rate(run) * 100\n",
    "\n",
    "results_30y_1200k = results"
   ]
  },
  {
   "cell_type": "code",
   "execution_count": 16,
   "metadata": {},
   "outputs": [
    {
     "data": {
      "text/html": [
       "<div>\n",
       "<style scoped>\n",
       "    .dataframe tbody tr th:only-of-type {\n",
       "        vertical-align: middle;\n",
       "    }\n",
       "\n",
       "    .dataframe tbody tr th {\n",
       "        vertical-align: top;\n",
       "    }\n",
       "\n",
       "    .dataframe thead tr th {\n",
       "        text-align: left;\n",
       "    }\n",
       "\n",
       "    .dataframe thead tr:last-of-type th {\n",
       "        text-align: right;\n",
       "    }\n",
       "</style>\n",
       "<table border=\"1\" class=\"dataframe\">\n",
       "  <thead>\n",
       "    <tr>\n",
       "      <th></th>\n",
       "      <th colspan=\"2\" halign=\"left\">success rate</th>\n",
       "    </tr>\n",
       "    <tr>\n",
       "      <th></th>\n",
       "      <th>vermogensbelasting 2018</th>\n",
       "      <th>vennootschapsbelasting 2018</th>\n",
       "    </tr>\n",
       "    <tr>\n",
       "      <th>withdrawal rate</th>\n",
       "      <th></th>\n",
       "      <th></th>\n",
       "    </tr>\n",
       "  </thead>\n",
       "  <tbody>\n",
       "    <tr>\n",
       "      <th>3.0</th>\n",
       "      <td>99.858557</td>\n",
       "      <td>99.929279</td>\n",
       "    </tr>\n",
       "    <tr>\n",
       "      <th>3.2</th>\n",
       "      <td>99.717115</td>\n",
       "      <td>99.858557</td>\n",
       "    </tr>\n",
       "    <tr>\n",
       "      <th>3.4</th>\n",
       "      <td>98.797737</td>\n",
       "      <td>99.717115</td>\n",
       "    </tr>\n",
       "    <tr>\n",
       "      <th>3.6</th>\n",
       "      <td>96.251768</td>\n",
       "      <td>99.222065</td>\n",
       "    </tr>\n",
       "    <tr>\n",
       "      <th>3.8</th>\n",
       "      <td>94.625177</td>\n",
       "      <td>97.524752</td>\n",
       "    </tr>\n",
       "    <tr>\n",
       "      <th>4.0</th>\n",
       "      <td>91.654880</td>\n",
       "      <td>95.403112</td>\n",
       "    </tr>\n",
       "    <tr>\n",
       "      <th>4.2</th>\n",
       "      <td>87.482320</td>\n",
       "      <td>93.635078</td>\n",
       "    </tr>\n",
       "  </tbody>\n",
       "</table>\n",
       "</div>"
      ],
      "text/plain": [
       "                           success rate                            \n",
       "                vermogensbelasting 2018 vennootschapsbelasting 2018\n",
       "withdrawal rate                                                    \n",
       "3.0                           99.858557                   99.929279\n",
       "3.2                           99.717115                   99.858557\n",
       "3.4                           98.797737                   99.717115\n",
       "3.6                           96.251768                   99.222065\n",
       "3.8                           94.625177                   97.524752\n",
       "4.0                           91.654880                   95.403112\n",
       "4.2                           87.482320                   93.635078"
      ]
     },
     "execution_count": 16,
     "metadata": {},
     "output_type": "execute_result"
    }
   ],
   "source": [
    "results_30y_1200k\n"
   ]
  },
  {
   "cell_type": "code",
   "execution_count": 25,
   "metadata": {},
   "outputs": [
    {
     "data": {
      "text/plain": [
       "Text(0.5, 1.025, 'Vermogen = €900K prive / €1.2M zakelijk    Duur = 30 jaar')"
      ]
     },
     "execution_count": 25,
     "metadata": {},
     "output_type": "execute_result"
    },
    {
     "data": {
      "image/png": "[encoded data removed]",
      "text/plain": [
       "<Figure size 432x288 with 1 Axes>"
      ]
     },
     "metadata": {},
     "output_type": "display_data"
    }
   ],
   "source": [
    "ax = results_30y_1200k.rename({('success rate', 'vermogensbelasting 2018'): 'foo'}).plot(grid=True)\n",
    "plt.suptitle(\"Success ratio per WR\", y=1.03, fontsize=14)\n",
    "ax.set_ylabel(\"success rate\")\n",
    "ax.legend([\"Prive (VRH)\", \"Zakelijk (VPB)\"]);\n",
    "plt.title(\"Vermogen = €900K prive / €1.2M zakelijk    Duur = 30 jaar\", fontsize=12, y=1.025,  color='grey')"
   ]
  },
  {
   "cell_type": "code",
   "execution_count": 19,
   "metadata": {},
   "outputs": [],
   "source": [
    "capital = 1200000 # initial capital\n",
    "duration = 40 # years\n",
    "withdrawal_rates = [3, 3.2, 3.4, 3.6, 3.8, 4]\n",
    "\n",
    "results = pd.DataFrame(index=withdrawal_rates)\n",
    "for wr in results.index:\n",
    "    run = simulate(capital*0.75, wr/100, duration, vermogensbelasting_2018)\n",
    "    results.at[wr, 'vermogensbelasting 2018'] = success_rate(run) * 100\n",
    "    \n",
    "    run = simulate(capital, wr/100, duration, vennootschapsbelasting)\n",
    "    results.at[wr, 'vennootschapsbelasting 2018'] = success_rate(run) * 100\n",
    "    \n",
    "results_40y_1200k = results"
   ]
  },
  {
   "cell_type": "code",
   "execution_count": 22,
   "metadata": {},
   "outputs": [
    {
     "data": {
      "text/html": [
       "<div>\n",
       "<style scoped>\n",
       "    .dataframe tbody tr th:only-of-type {\n",
       "        vertical-align: middle;\n",
       "    }\n",
       "\n",
       "    .dataframe tbody tr th {\n",
       "        vertical-align: top;\n",
       "    }\n",
       "\n",
       "    .dataframe thead th {\n",
       "        text-align: right;\n",
       "    }\n",
       "</style>\n",
       "<table border=\"1\" class=\"dataframe\">\n",
       "  <thead>\n",
       "    <tr style=\"text-align: right;\">\n",
       "      <th></th>\n",
       "      <th>vermogensbelasting 2018</th>\n",
       "      <th>vennootschapsbelasting 2018</th>\n",
       "    </tr>\n",
       "  </thead>\n",
       "  <tbody>\n",
       "    <tr>\n",
       "      <th>3.0</th>\n",
       "      <td>99.690881</td>\n",
       "      <td>99.768161</td>\n",
       "    </tr>\n",
       "    <tr>\n",
       "      <th>3.2</th>\n",
       "      <td>98.299845</td>\n",
       "      <td>99.690881</td>\n",
       "    </tr>\n",
       "    <tr>\n",
       "      <th>3.4</th>\n",
       "      <td>94.976816</td>\n",
       "      <td>99.304482</td>\n",
       "    </tr>\n",
       "    <tr>\n",
       "      <th>3.6</th>\n",
       "      <td>91.421947</td>\n",
       "      <td>98.222566</td>\n",
       "    </tr>\n",
       "    <tr>\n",
       "      <th>3.8</th>\n",
       "      <td>84.930448</td>\n",
       "      <td>95.440495</td>\n",
       "    </tr>\n",
       "    <tr>\n",
       "      <th>4.0</th>\n",
       "      <td>80.525502</td>\n",
       "      <td>92.272025</td>\n",
       "    </tr>\n",
       "  </tbody>\n",
       "</table>\n",
       "</div>"
      ],
      "text/plain": [
       "     vermogensbelasting 2018  vennootschapsbelasting 2018\n",
       "3.0                99.690881                    99.768161\n",
       "3.2                98.299845                    99.690881\n",
       "3.4                94.976816                    99.304482\n",
       "3.6                91.421947                    98.222566\n",
       "3.8                84.930448                    95.440495\n",
       "4.0                80.525502                    92.272025"
      ]
     },
     "execution_count": 22,
     "metadata": {},
     "output_type": "execute_result"
    }
   ],
   "source": [
    "results_40y_1200k"
   ]
  },
  {
   "cell_type": "code",
   "execution_count": 21,
   "metadata": {},
   "outputs": [
    {
     "data": {
      "text/plain": [
       "Text(0.5, 1.02, 'Vermogen: €1.2M   Duur: 40 jaar')"
      ]
     },
     "execution_count": 21,
     "metadata": {},
     "output_type": "execute_result"
    },
    {
     "data": {
      "image/png": "[encoded data removed]",
      "text/plain": [
       "<Figure size 432x288 with 1 Axes>"
      ]
     },
     "metadata": {},
     "output_type": "display_data"
    }
   ],
   "source": [
    "results_40y_1200k.plot(grid=True)\n",
    "plt.suptitle(\"Success ratio per WR\", y=1.02, fontsize=14)\n",
    "plt.title(\"Vermogen: €900K / €1.2M   Duur: 40 jaar\", fontsize=12, y=1.02, color='grey')"
   ]
  },
  {
   "cell_type": "code",
   "execution_count": 33,
   "metadata": {},
   "outputs": [
    {
     "name": "stdout",
     "output_type": "stream",
     "text": [
      "0.978076379066478\n",
      "0.978076379066478\n",
      "0.978076379066478\n",
      "0.978076379066478\n",
      "0.978076379066478\n",
      "0.978076379066478\n",
      "0.978076379066478\n",
      "0.978076379066478\n",
      "18.1 s ± 1.19 s per loop (mean ± std. dev. of 7 runs, 1 loop each)\n"
     ]
    }
   ],
   "source": []
  },
  {
   "cell_type": "code",
   "execution_count": null,
   "metadata": {},
   "outputs": [],
   "source": []
  },
  {
   "cell_type": "code",
   "execution_count": null,
   "metadata": {},
   "outputs": [],
   "source": []
  }
 ],
 "metadata": {
  "kernelspec": {
   "display_name": "Python 3",
   "language": "python",
   "name": "python3"
  },
  "language_info": {
   "codemirror_mode": {
    "name": "ipython",
    "version": 3
   },
   "file_extension": ".py",
   "mimetype": "text/x-python",
   "name": "python",
   "nbconvert_exporter": "python",
   "pygments_lexer": "ipython3",
   "version": "3.7.1"
  }
 },
 "nbformat": 4,
 "nbformat_minor": 2
}
