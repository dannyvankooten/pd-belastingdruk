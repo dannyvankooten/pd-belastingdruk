{
 "cells": [
  {
   "cell_type": "code",
   "execution_count": 1,
   "metadata": {},
   "outputs": [],
   "source": [
    "import pandas as pd\n",
    "import numpy as np\n",
    "from matplotlib.ticker import FuncFormatter"
   ]
  },
  {
   "cell_type": "code",
   "execution_count": 2,
   "metadata": {},
   "outputs": [
    {
     "data": {
      "text/html": [
       "<div>\n",
       "<style scoped>\n",
       "    .dataframe tbody tr th:only-of-type {\n",
       "        vertical-align: middle;\n",
       "    }\n",
       "\n",
       "    .dataframe tbody tr th {\n",
       "        vertical-align: top;\n",
       "    }\n",
       "\n",
       "    .dataframe thead th {\n",
       "        text-align: right;\n",
       "    }\n",
       "</style>\n",
       "<table border=\"1\" class=\"dataframe\">\n",
       "  <thead>\n",
       "    <tr style=\"text-align: right;\">\n",
       "      <th></th>\n",
       "      <th>Open</th>\n",
       "      <th>High</th>\n",
       "      <th>Low</th>\n",
       "      <th>Close</th>\n",
       "      <th>Adj Close</th>\n",
       "      <th>Volume</th>\n",
       "    </tr>\n",
       "    <tr>\n",
       "      <th>Date</th>\n",
       "      <th></th>\n",
       "      <th></th>\n",
       "      <th></th>\n",
       "      <th></th>\n",
       "      <th></th>\n",
       "      <th></th>\n",
       "    </tr>\n",
       "  </thead>\n",
       "  <tbody>\n",
       "    <tr>\n",
       "      <th>2018-08-23</th>\n",
       "      <td>2860.290039</td>\n",
       "      <td>2868.780029</td>\n",
       "      <td>2854.030029</td>\n",
       "      <td>2856.979980</td>\n",
       "      <td>2856.979980</td>\n",
       "      <td>2713910000</td>\n",
       "    </tr>\n",
       "    <tr>\n",
       "      <th>2018-08-24</th>\n",
       "      <td>2862.350098</td>\n",
       "      <td>2876.159912</td>\n",
       "      <td>2862.350098</td>\n",
       "      <td>2874.689941</td>\n",
       "      <td>2874.689941</td>\n",
       "      <td>2596190000</td>\n",
       "    </tr>\n",
       "  </tbody>\n",
       "</table>\n",
       "</div>"
      ],
      "text/plain": [
       "                   Open         High          Low        Close    Adj Close  \\\n",
       "Date                                                                          \n",
       "2018-08-23  2860.290039  2868.780029  2854.030029  2856.979980  2856.979980   \n",
       "2018-08-24  2862.350098  2876.159912  2862.350098  2874.689941  2874.689941   \n",
       "\n",
       "                Volume  \n",
       "Date                    \n",
       "2018-08-23  2713910000  \n",
       "2018-08-24  2596190000  "
      ]
     },
     "execution_count": 2,
     "metadata": {},
     "output_type": "execute_result"
    }
   ],
   "source": [
    "sp500_raw = pd.read_csv('SP500.csv', index_col='Date', parse_dates=['Date'])\n",
    "sp500_raw.tail(2)"
   ]
  },
  {
   "cell_type": "code",
   "execution_count": 3,
   "metadata": {},
   "outputs": [
    {
     "data": {
      "text/html": [
       "<div>\n",
       "<style scoped>\n",
       "    .dataframe tbody tr th:only-of-type {\n",
       "        vertical-align: middle;\n",
       "    }\n",
       "\n",
       "    .dataframe tbody tr th {\n",
       "        vertical-align: top;\n",
       "    }\n",
       "\n",
       "    .dataframe thead th {\n",
       "        text-align: right;\n",
       "    }\n",
       "</style>\n",
       "<table border=\"1\" class=\"dataframe\">\n",
       "  <thead>\n",
       "    <tr style=\"text-align: right;\">\n",
       "      <th></th>\n",
       "      <th>Open</th>\n",
       "      <th>High</th>\n",
       "      <th>Low</th>\n",
       "      <th>Close</th>\n",
       "      <th>Adj Close</th>\n",
       "      <th>Volume</th>\n",
       "    </tr>\n",
       "    <tr>\n",
       "      <th>Date</th>\n",
       "      <th></th>\n",
       "      <th></th>\n",
       "      <th></th>\n",
       "      <th></th>\n",
       "      <th></th>\n",
       "      <th></th>\n",
       "    </tr>\n",
       "  </thead>\n",
       "  <tbody>\n",
       "    <tr>\n",
       "      <th>1950-01-31</th>\n",
       "      <td>17.049999</td>\n",
       "      <td>17.049999</td>\n",
       "      <td>17.049999</td>\n",
       "      <td>17.049999</td>\n",
       "      <td>17.049999</td>\n",
       "      <td>1690000</td>\n",
       "    </tr>\n",
       "    <tr>\n",
       "      <th>1950-02-28</th>\n",
       "      <td>17.219999</td>\n",
       "      <td>17.219999</td>\n",
       "      <td>17.219999</td>\n",
       "      <td>17.219999</td>\n",
       "      <td>17.219999</td>\n",
       "      <td>1310000</td>\n",
       "    </tr>\n",
       "  </tbody>\n",
       "</table>\n",
       "</div>"
      ],
      "text/plain": [
       "                 Open       High        Low      Close  Adj Close   Volume\n",
       "Date                                                                      \n",
       "1950-01-31  17.049999  17.049999  17.049999  17.049999  17.049999  1690000\n",
       "1950-02-28  17.219999  17.219999  17.219999  17.219999  17.219999  1310000"
      ]
     },
     "execution_count": 3,
     "metadata": {},
     "output_type": "execute_result"
    }
   ],
   "source": [
    "sp500 = sp500_raw.resample('BM').apply(lambda x: x[-1])\n",
    "sp500.head(2)"
   ]
  },
  {
   "cell_type": "code",
   "execution_count": 4,
   "metadata": {},
   "outputs": [
    {
     "data": {
      "text/html": [
       "<div>\n",
       "<style scoped>\n",
       "    .dataframe tbody tr th:only-of-type {\n",
       "        vertical-align: middle;\n",
       "    }\n",
       "\n",
       "    .dataframe tbody tr th {\n",
       "        vertical-align: top;\n",
       "    }\n",
       "\n",
       "    .dataframe thead th {\n",
       "        text-align: right;\n",
       "    }\n",
       "</style>\n",
       "<table border=\"1\" class=\"dataframe\">\n",
       "  <thead>\n",
       "    <tr style=\"text-align: right;\">\n",
       "      <th></th>\n",
       "      <th>Open</th>\n",
       "      <th>High</th>\n",
       "      <th>Low</th>\n",
       "      <th>Close</th>\n",
       "      <th>Adj Close</th>\n",
       "      <th>Volume</th>\n",
       "      <th>Pct Change</th>\n",
       "    </tr>\n",
       "    <tr>\n",
       "      <th>Date</th>\n",
       "      <th></th>\n",
       "      <th></th>\n",
       "      <th></th>\n",
       "      <th></th>\n",
       "      <th></th>\n",
       "      <th></th>\n",
       "      <th></th>\n",
       "    </tr>\n",
       "  </thead>\n",
       "  <tbody>\n",
       "    <tr>\n",
       "      <th>1950-01-31</th>\n",
       "      <td>17.049999</td>\n",
       "      <td>17.049999</td>\n",
       "      <td>17.049999</td>\n",
       "      <td>17.049999</td>\n",
       "      <td>17.049999</td>\n",
       "      <td>1690000</td>\n",
       "      <td>NaN</td>\n",
       "    </tr>\n",
       "    <tr>\n",
       "      <th>1950-02-28</th>\n",
       "      <td>17.219999</td>\n",
       "      <td>17.219999</td>\n",
       "      <td>17.219999</td>\n",
       "      <td>17.219999</td>\n",
       "      <td>17.219999</td>\n",
       "      <td>1310000</td>\n",
       "      <td>0.009971</td>\n",
       "    </tr>\n",
       "    <tr>\n",
       "      <th>1950-03-31</th>\n",
       "      <td>17.290001</td>\n",
       "      <td>17.290001</td>\n",
       "      <td>17.290001</td>\n",
       "      <td>17.290001</td>\n",
       "      <td>17.290001</td>\n",
       "      <td>1880000</td>\n",
       "      <td>0.004065</td>\n",
       "    </tr>\n",
       "  </tbody>\n",
       "</table>\n",
       "</div>"
      ],
      "text/plain": [
       "                 Open       High        Low      Close  Adj Close   Volume  \\\n",
       "Date                                                                         \n",
       "1950-01-31  17.049999  17.049999  17.049999  17.049999  17.049999  1690000   \n",
       "1950-02-28  17.219999  17.219999  17.219999  17.219999  17.219999  1310000   \n",
       "1950-03-31  17.290001  17.290001  17.290001  17.290001  17.290001  1880000   \n",
       "\n",
       "            Pct Change  \n",
       "Date                    \n",
       "1950-01-31         NaN  \n",
       "1950-02-28    0.009971  \n",
       "1950-03-31    0.004065  "
      ]
     },
     "execution_count": 4,
     "metadata": {},
     "output_type": "execute_result"
    }
   ],
   "source": [
    "sp500['Pct Change'] = sp500['Adj Close'].pct_change()\n",
    "sp500.head(3)"
   ]
  },
  {
   "cell_type": "code",
   "execution_count": null,
   "metadata": {},
   "outputs": [],
   "source": []
  },
  {
   "cell_type": "code",
   "execution_count": 5,
   "metadata": {},
   "outputs": [
    {
     "data": {
      "text/plain": [
       "423.57"
      ]
     },
     "execution_count": 5,
     "metadata": {},
     "output_type": "execute_result"
    }
   ],
   "source": [
    "def vermogensbelasting_2018(capital, gains):\n",
    "    taxable = capital - 30000\n",
    "    if taxable < 0:\n",
    "        return 0\n",
    "    \n",
    "    schijf_1 = min(70800, taxable)\n",
    "    schijf_2 = max(min(978000, taxable)-70800, 0)\n",
    "    schijf_3 = max(taxable - 978000, 0)\n",
    "    \n",
    "    return (0.02017 * schijf_1 + 0.04326 * schijf_2 + 0.0538 * schijf_3) * 0.30\n",
    "\n",
    "vermogensbelasting_2018(100000, 0)"
   ]
  },
  {
   "cell_type": "code",
   "execution_count": 6,
   "metadata": {},
   "outputs": [
    {
     "data": {
      "text/plain": [
       "40000.0"
      ]
     },
     "execution_count": 6,
     "metadata": {},
     "output_type": "execute_result"
    }
   ],
   "source": [
    "def vennootschapsbelasting(capital, gains):\n",
    "    schijf_1 = min(200000, gains)\n",
    "    schijf_2 = max(gains-200000, 0)\n",
    "    return max(0, 0.20 * schijf_1 + 0.25 * schijf_2)\n",
    "\n",
    "vennootschapsbelasting(0, 200000)"
   ]
  },
  {
   "cell_type": "code",
   "execution_count": 7,
   "metadata": {},
   "outputs": [
    {
     "data": {
      "text/html": [
       "<div>\n",
       "<style scoped>\n",
       "    .dataframe tbody tr th:only-of-type {\n",
       "        vertical-align: middle;\n",
       "    }\n",
       "\n",
       "    .dataframe tbody tr th {\n",
       "        vertical-align: top;\n",
       "    }\n",
       "\n",
       "    .dataframe thead th {\n",
       "        text-align: right;\n",
       "    }\n",
       "</style>\n",
       "<table border=\"1\" class=\"dataframe\">\n",
       "  <thead>\n",
       "    <tr style=\"text-align: right;\">\n",
       "      <th></th>\n",
       "      <th>end_value</th>\n",
       "    </tr>\n",
       "  </thead>\n",
       "  <tbody>\n",
       "    <tr>\n",
       "      <th>0</th>\n",
       "      <td>-2.500897e+07</td>\n",
       "    </tr>\n",
       "    <tr>\n",
       "      <th>1</th>\n",
       "      <td>-2.475235e+07</td>\n",
       "    </tr>\n",
       "  </tbody>\n",
       "</table>\n",
       "</div>"
      ],
      "text/plain": [
       "      end_value\n",
       "0 -2.500897e+07\n",
       "1 -2.475235e+07"
      ]
     },
     "execution_count": 7,
     "metadata": {},
     "output_type": "execute_result"
    }
   ],
   "source": [
    "def simulate(initial_capital, withdrawal_rate, duration_in_years=30, tax_fn=lambda a, b: 0):\n",
    "    inflation = 0.02 # TODO: Use actual inflation numbers\n",
    "    \n",
    "    stocks_return = sp500['Pct Change'] .dropna()\n",
    "    inflation_per_month = inflation / 12\n",
    "    months = duration_in_years * 12\n",
    "    run_index = np.arange(0, months)\n",
    "    initial_data = {'capital': 0.0, 'market_return': 0.0,'withdrawal': 0.0, 'taxes': 0.0}\n",
    "\n",
    "    samples = stocks_return.size-months-1\n",
    "    results = pd.DataFrame(index=np.arange(0, samples), data={'end_value': 0.0})\n",
    "\n",
    "    for p in results.index:\n",
    "        run = pd.DataFrame(index=run_index, data=initial_data)\n",
    "        run.index.name = 'month'\n",
    "\n",
    "        capital = initial_capital\n",
    "        withdrawal = withdrawal_rate / 12 * initial_capital \n",
    "\n",
    "        # loop over months\n",
    "        for m in run.index:\n",
    "            market_return = stocks_return.iloc[m+p]\n",
    "            gain = capital * market_return\n",
    "\n",
    "            # pay taxes every 12th month\n",
    "            taxes = 0\n",
    "            if m % 12 == 0:\n",
    "                taxes = tax_fn(capital, gain)\n",
    "\n",
    "            run.at[m, 'capital'] = capital\n",
    "            run.at[m, 'market_return'] = market_return\n",
    "            run.at[m, 'withdrawal'] = withdrawal\n",
    "            run.at[m, 'taxes'] = taxes     \n",
    "\n",
    "             # withdraw inflation adjusted WR amount\n",
    "            capital -= withdrawal\n",
    "\n",
    "            # calculate inflation adjusted withdrawal amount\n",
    "            withdrawal = withdrawal * ( 1 + inflation_per_month )\n",
    "\n",
    "            # add capital gains\n",
    "            capital += gain\n",
    "\n",
    "            # pay taxes\n",
    "            capital -= taxes\n",
    "\n",
    "            # at the end of simulation, add to results dataframe\n",
    "            if m == months-1:\n",
    "                results.at[p, 'end_value'] = capital\n",
    "    \n",
    "    return results\n",
    "\n",
    "res = simulate(1000000, 0.4, 30, vermogensbelasting_2018)\n",
    "res.head(2)"
   ]
  },
  {
   "cell_type": "code",
   "execution_count": 8,
   "metadata": {},
   "outputs": [
    {
     "data": {
      "text/plain": [
       "<matplotlib.axes._subplots.AxesSubplot at 0x11c6b6518>"
      ]
     },
     "execution_count": 8,
     "metadata": {},
     "output_type": "execute_result"
    }
   ],
   "source": [
    "res.plot()"
   ]
  },
  {
   "cell_type": "code",
   "execution_count": 9,
   "metadata": {},
   "outputs": [
    {
     "ename": "NameError",
     "evalue": "name 'results' is not defined",
     "output_type": "error",
     "traceback": [
      "\u001b[0;31m---------------------------------------------------------------------------\u001b[0m",
      "\u001b[0;31mNameError\u001b[0m                                 Traceback (most recent call last)",
      "\u001b[0;32m<ipython-input-9-71cff829a0f2>\u001b[0m in \u001b[0;36m<module>\u001b[0;34m()\u001b[0m\n\u001b[0;32m----> 1\u001b[0;31m \u001b[0msuccess_rate\u001b[0m \u001b[0;34m=\u001b[0m \u001b[0mresults\u001b[0m\u001b[0;34m[\u001b[0m\u001b[0mresults\u001b[0m\u001b[0;34m[\u001b[0m\u001b[0;34m'end_value'\u001b[0m\u001b[0;34m]\u001b[0m \u001b[0;34m>\u001b[0m \u001b[0;36m0\u001b[0m\u001b[0;34m]\u001b[0m\u001b[0;34m.\u001b[0m\u001b[0msize\u001b[0m \u001b[0;34m/\u001b[0m \u001b[0mresults\u001b[0m\u001b[0;34m.\u001b[0m\u001b[0msize\u001b[0m\u001b[0;34m\u001b[0m\u001b[0m\n\u001b[0m\u001b[1;32m      2\u001b[0m \u001b[0msuccess_rate\u001b[0m\u001b[0;34m\u001b[0m\u001b[0m\n",
      "\u001b[0;31mNameError\u001b[0m: name 'results' is not defined"
     ]
    }
   ],
   "source": [
    "success_rate = results[results['end_value'] > 0].size / results.size\n",
    "success_rate"
   ]
  },
  {
   "cell_type": "code",
   "execution_count": null,
   "metadata": {},
   "outputs": [],
   "source": [
    "print(\"Withdrawal rate was {:.2f}%\".format(wr*100))\n",
    "print(\"Success rate: {:.2f}%\".format(success_rate*100))\n",
    "print(\"Median end value is: ${:.2f}\".format(results['end_value'].median()))\n",
    "print(\"Best end value is: ${:.2f}\".format(results['end_value'].max()))\n",
    "print(\"Worst end value is: ${:.2f}\".format(results['end_value'].min()))\n"
   ]
  },
  {
   "cell_type": "code",
   "execution_count": null,
   "metadata": {},
   "outputs": [],
   "source": [
    "print(\"Withdrawal rate was {:.2f}%\".format(wr*100))\n",
    "print(\"Success rate: {:.2f}%\".format(success_rate*100))\n",
    "print(\"Median end value is: ${:.2f}\".format(results['end_value'].median()))\n",
    "print(\"Best end value is: ${:.2f}\".format(results['end_value'].max()))\n",
    "print(\"Worst end value is: ${:.2f}\".format(results['end_value'].min()))\n"
   ]
  }
 ],
 "metadata": {
  "kernelspec": {
   "display_name": "Python 3",
   "language": "python",
   "name": "python3"
  },
  "language_info": {
   "codemirror_mode": {
    "name": "ipython",
    "version": 3
   },
   "file_extension": ".py",
   "mimetype": "text/x-python",
   "name": "python",
   "nbconvert_exporter": "python",
   "pygments_lexer": "ipython3",
   "version": "3.6.6"
  }
 },
 "nbformat": 4,
 "nbformat_minor": 2
}
